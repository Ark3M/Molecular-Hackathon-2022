{
 "cells": [
  {
   "cell_type": "code",
   "execution_count": 23,
   "id": "f005e9ed",
   "metadata": {},
   "outputs": [],
   "source": [
    "from ase.db import connect"
   ]
  },
  {
   "cell_type": "code",
   "execution_count": 24,
   "id": "fc7fe372",
   "metadata": {},
   "outputs": [],
   "source": [
    "import numpy as np\n",
    "import torch\n",
    "import scipy\n",
    "import torch.nn as nn\n",
    "from scipy.spatial import distance_matrix\n",
    "from torch.utils.data import Dataset\n",
    "from time import time\n",
    "from IPython.display import clear_output\n",
    "import matplotlib.pyplot as plt\n",
    "import librosa\n",
    "import pandas as pd\n",
    "import glob\n",
    "# %matplotlib inline\n",
    "import os\n",
    "from sklearn import preprocessing\n",
    "import torch\n",
    "import requests\n",
    "import matplotlib\n",
    "import matplotlib.pyplot as plt\n",
    "import numpy as np\n",
    "import pandas as pd\n",
    "from sklearn.model_selection import train_test_split\n",
    "from sklearn.preprocessing import OneHotEncoder\n",
    "from matplotlib import pyplot as plt\n",
    "import torch\n",
    "import torch.nn as nn\n",
    "import torch.nn.functional as F\n",
    "import torch.optim as optim\n",
    "from sklearn.utils import shuffle\n",
    "from torch.utils.data import DataLoader\n",
    "from IPython.display import clear_output\n",
    "import numpy as np\n",
    "from sklearn.linear_model import LinearRegression, BayesianRidge, Ridge\n",
    "from sklearn.model_selection import train_test_split\n",
    "import numpy as np, pandas as pd\n",
    "import matplotlib.pyplot as plt\n",
    "\n",
    "from sklearn import linear_model\n",
    "from sklearn.preprocessing import StandardScaler\n",
    "from sklearn.model_selection import train_test_split\n",
    "from sklearn.datasets import load_boston\n",
    "from sklearn.model_selection import GridSearchCV\n",
    "from sklearn.metrics import r2_score, mean_absolute_error, mean_squared_error"
   ]
  },
  {
   "cell_type": "code",
   "execution_count": 25,
   "id": "4323ad68",
   "metadata": {},
   "outputs": [],
   "source": [
    "database_path = \"test.db\"  # Путь к файлу базы данных\n",
    "database = connect(database_path)  # Загрузка базы данных\n",
    "row = database.get(1)  # Взятие первого элемента из базы. Нумерация начинается с 1\n",
    "n_atoms = row.natoms  # Количество атомов в молекуле\n",
    "numbers = row.numbers  # Атомные числа атомов молекулы\n",
    "symbols = row.symbols  # Названия атомов молекулы\n",
    "positions = row.positions  # Координаты атомов. np.array размера n_atoms x 3\n",
    "energy = row.data.get('energy') # Энергия. float значение энергии"
   ]
  },
  {
   "cell_type": "code",
   "execution_count": 26,
   "id": "a043d59f",
   "metadata": {},
   "outputs": [
    {
     "data": {
      "text/plain": [
       "32884"
      ]
     },
     "execution_count": 26,
     "metadata": {},
     "output_type": "execute_result"
    }
   ],
   "source": [
    "len(database)"
   ]
  },
  {
   "cell_type": "code",
   "execution_count": 228,
   "id": "c0242c60",
   "metadata": {},
   "outputs": [],
   "source": [
    "n_atoms = []\n",
    "numbers = []\n",
    "symbols = []\n",
    "positions = []\n",
    "energy = []\n",
    "for i in range(50000):\n",
    "    try:\n",
    "        row = database.get(i)\n",
    "        n_atoms.append(row.natoms)  # Количество атомов в молекуле\n",
    "        numbers.append(row.numbers)  # Атомные числа атомов молекулы\n",
    "        symbols.append(row.symbols)  # Названия атомов молекулы\n",
    "        positions.append(row.positions)  # Координаты атомов. np.array размера n_atoms x 3\n",
    "        energy.append(row.data.get('energy'))\n",
    "    except:\n",
    "        continue\n"
   ]
  },
  {
   "cell_type": "code",
   "execution_count": 229,
   "id": "44afbcf4",
   "metadata": {},
   "outputs": [
    {
     "name": "stderr",
     "output_type": "stream",
     "text": [
      "/home/legchenko/venv37/lib/python3.7/site-packages/ipykernel_launcher.py:1: VisibleDeprecationWarning: Creating an ndarray from ragged nested sequences (which is a list-or-tuple of lists-or-tuples-or ndarrays with different lengths or shapes) is deprecated. If you meant to do this, you must specify 'dtype=object' when creating the ndarray.\n",
      "  \"\"\"Entry point for launching an IPython kernel.\n",
      "/home/legchenko/venv37/lib/python3.7/site-packages/ipykernel_launcher.py:2: VisibleDeprecationWarning: Creating an ndarray from ragged nested sequences (which is a list-or-tuple of lists-or-tuples-or ndarrays with different lengths or shapes) is deprecated. If you meant to do this, you must specify 'dtype=object' when creating the ndarray.\n",
      "  \n",
      "/home/legchenko/venv37/lib/python3.7/site-packages/ipykernel_launcher.py:5: VisibleDeprecationWarning: Creating an ndarray from ragged nested sequences (which is a list-or-tuple of lists-or-tuples-or ndarrays with different lengths or shapes) is deprecated. If you meant to do this, you must specify 'dtype=object' when creating the ndarray.\n",
      "  \"\"\"\n"
     ]
    }
   ],
   "source": [
    "positions = np.array(positions)\n",
    "numbers = np.array(numbers)\n",
    "n_atoms = np.array(n_atoms)\n",
    "energy = np.array(energy)\n",
    "symbols = np.array(symbols)"
   ]
  },
  {
   "cell_type": "code",
   "execution_count": 260,
   "id": "16d833f8",
   "metadata": {},
   "outputs": [
    {
     "data": {
      "text/plain": [
       "32884"
      ]
     },
     "execution_count": 260,
     "metadata": {},
     "output_type": "execute_result"
    }
   ],
   "source": [
    "len(positions)"
   ]
  },
  {
   "cell_type": "code",
   "execution_count": 230,
   "id": "86ccd0e0",
   "metadata": {},
   "outputs": [],
   "source": [
    "def pad_pos(x,l = 31):\n",
    "    pos_padded = []\n",
    "    for i in x:\n",
    "        if len(i)<l:\n",
    "            v = l - len(i)\n",
    "            p = np.array([[0,0,0]]*v)\n",
    "            res = np.concatenate([i,p])\n",
    "            pos_padded.append(res)\n",
    "        else:\n",
    "            pos_padded.append(i)\n",
    "    return np.array(pos_padded)\n",
    "\n",
    "def pad_symb(x,l = 31):\n",
    "    padded = []\n",
    "    for i in x:\n",
    "        if len(i)<l:\n",
    "            v = l - len(i)\n",
    "            p = np.array(['-']*v)\n",
    "            res = np.concatenate([i,p])\n",
    "            padded.append(res)\n",
    "        else:\n",
    "            padded.append(i)\n",
    "    return np.array(padded)\n",
    "\n",
    "def pad_numbers(x,l = 31):\n",
    "    padded = []\n",
    "    for i in x:\n",
    "        if len(i)<l:\n",
    "            v = l - len(i)\n",
    "            p = np.array([0]*v)\n",
    "            res = np.concatenate([i,p])\n",
    "            padded.append(res)\n",
    "        else:\n",
    "            padded.append(i)\n",
    "    return np.array(padded)\n",
    "\n",
    "        "
   ]
  },
  {
   "cell_type": "code",
   "execution_count": 231,
   "id": "52fc96ca",
   "metadata": {},
   "outputs": [],
   "source": [
    "padded_pos = pad_pos(positions)"
   ]
  },
  {
   "cell_type": "code",
   "execution_count": 232,
   "id": "0e8dccce",
   "metadata": {},
   "outputs": [],
   "source": [
    "padded_num = pad_numbers(numbers)"
   ]
  },
  {
   "cell_type": "code",
   "execution_count": 233,
   "id": "12c8888e",
   "metadata": {},
   "outputs": [],
   "source": [
    "padded_symb = pad_symb(symbols)"
   ]
  },
  {
   "cell_type": "code",
   "execution_count": 249,
   "id": "d08e62ed",
   "metadata": {},
   "outputs": [],
   "source": [
    "from collections import Counter\n",
    "from sklearn.feature_extraction import DictVectorizer\n",
    "\n",
    "db = connect(\"train.db\")\n",
    "db_test = connect(\"test.db\")\n",
    "\n",
    "numbers = []\n",
    "for row in db.select():\n",
    "    numbers.append(row.numbers)\n",
    "\n",
    "numbers_test = []\n",
    "\n",
    "for row in db_test.select():\n",
    "    numbers_test.append(row.numbers)\n",
    "\n",
    "d = DictVectorizer()\n",
    "\n",
    "padded_num = pad_numbers(numbers)\n",
    "padded_num_test = pad_numbers(numbers_test)\n",
    "\n",
    "numbers_onehot = d.fit_transform([Counter(x) for x in padded_num])\n",
    "numbers_onehot_test = d.transform([Counter(x) for x in padded_num_test])"
   ]
  },
  {
   "cell_type": "code",
   "execution_count": 274,
   "id": "4e48d231",
   "metadata": {},
   "outputs": [],
   "source": [
    "no = numbers_onehot_test.toarray()"
   ]
  },
  {
   "cell_type": "code",
   "execution_count": 257,
   "id": "83beeb07",
   "metadata": {},
   "outputs": [
    {
     "data": {
      "text/plain": [
       "array([2., 7., 0., 0., 5., 1., 2., 0.])"
      ]
     },
     "execution_count": 257,
     "metadata": {},
     "output_type": "execute_result"
    }
   ],
   "source": [
    "so[0]"
   ]
  },
  {
   "cell_type": "code",
   "execution_count": 247,
   "id": "f91cd68b",
   "metadata": {
    "scrolled": true
   },
   "outputs": [
    {
     "name": "stdout",
     "output_type": "stream",
     "text": [
      "Requirement already satisfied: ase in /home/legchenko/venv37/lib/python3.7/site-packages (3.22.1)\n",
      "Requirement already satisfied: numpy>=1.15.0 in /home/legchenko/venv37/lib/python3.7/site-packages (from ase) (1.21.6)\n",
      "Requirement already satisfied: matplotlib>=3.1.0 in /home/legchenko/venv37/lib/python3.7/site-packages (from ase) (3.4.3)\n",
      "Requirement already satisfied: scipy>=1.1.0 in /home/legchenko/venv37/lib/python3.7/site-packages (from ase) (1.7.3)\n",
      "Requirement already satisfied: pyparsing>=2.2.1 in /home/legchenko/venv37/lib/python3.7/site-packages (from matplotlib>=3.1.0->ase) (2.4.7)\n",
      "Requirement already satisfied: cycler>=0.10 in /home/legchenko/venv37/lib/python3.7/site-packages (from matplotlib>=3.1.0->ase) (0.10.0)\n",
      "Requirement already satisfied: kiwisolver>=1.0.1 in /home/legchenko/venv37/lib/python3.7/site-packages (from matplotlib>=3.1.0->ase) (1.3.1)\n",
      "Requirement already satisfied: pillow>=6.2.0 in /home/legchenko/venv37/lib/python3.7/site-packages (from matplotlib>=3.1.0->ase) (9.1.1)\n",
      "Requirement already satisfied: python-dateutil>=2.7 in /home/legchenko/venv37/lib/python3.7/site-packages (from matplotlib>=3.1.0->ase) (2.8.2)\n",
      "Requirement already satisfied: six in /home/legchenko/venv37/lib/python3.7/site-packages (from cycler>=0.10->matplotlib>=3.1.0->ase) (1.15.0)\n",
      "\u001b[33mWARNING: There was an error checking the latest version of pip.\u001b[0m\u001b[33m\n",
      "\u001b[0m"
     ]
    }
   ],
   "source": [
    "!pip install ase\n",
    "from ase.db import connect"
   ]
  },
  {
   "cell_type": "code",
   "execution_count": 234,
   "id": "04a7bf6a",
   "metadata": {},
   "outputs": [],
   "source": [
    "def get_mask(n, l = 31):\n",
    "    res = []\n",
    "    for i in n:\n",
    "        v = l-i\n",
    "        res.append(np.pad(np.ones([i,i]), [0,v]))\n",
    "    return np.array(res)"
   ]
  },
  {
   "cell_type": "code",
   "execution_count": 235,
   "id": "eddb0dba",
   "metadata": {},
   "outputs": [],
   "source": [
    "def get_dist(pos):\n",
    "    res = []\n",
    "    for i in pos:\n",
    "        res.append(distance_matrix(i, i, p=2))\n",
    "    return np.array(res)"
   ]
  },
  {
   "cell_type": "code",
   "execution_count": 236,
   "id": "aa9ef3b7",
   "metadata": {},
   "outputs": [],
   "source": [
    "masks = get_mask(n_atoms)"
   ]
  },
  {
   "cell_type": "code",
   "execution_count": 237,
   "id": "5aabc4bf",
   "metadata": {},
   "outputs": [],
   "source": [
    "dist_mat = get_dist(padded_pos)"
   ]
  },
  {
   "cell_type": "code",
   "execution_count": 238,
   "id": "ac5c96da",
   "metadata": {},
   "outputs": [],
   "source": [
    "masked_dist = dist_mat*masks"
   ]
  },
  {
   "cell_type": "code",
   "execution_count": 262,
   "id": "245fbb5d",
   "metadata": {},
   "outputs": [
    {
     "data": {
      "text/plain": [
       "(32884, 31, 31)"
      ]
     },
     "execution_count": 262,
     "metadata": {},
     "output_type": "execute_result"
    }
   ],
   "source": [
    "dist_mat.shape"
   ]
  },
  {
   "cell_type": "code",
   "execution_count": 239,
   "id": "52a1ea00",
   "metadata": {},
   "outputs": [],
   "source": [
    "l_mean = []\n",
    "for i in dist_mat:\n",
    "    l_mean.append(i.sum()/((i != 0).sum()))"
   ]
  },
  {
   "cell_type": "code",
   "execution_count": 264,
   "id": "56068ec3",
   "metadata": {},
   "outputs": [
    {
     "data": {
      "text/plain": [
       "32884"
      ]
     },
     "execution_count": 264,
     "metadata": {},
     "output_type": "execute_result"
    }
   ],
   "source": [
    "len(l_mean)"
   ]
  },
  {
   "cell_type": "code",
   "execution_count": 240,
   "id": "880ac861",
   "metadata": {},
   "outputs": [],
   "source": [
    "l_max = dist_mat[:,0].max(axis = 1)"
   ]
  },
  {
   "cell_type": "code",
   "execution_count": 241,
   "id": "e70c46e7",
   "metadata": {},
   "outputs": [],
   "source": [
    "l_var = []\n",
    "for i in dist_mat:\n",
    "    no = []\n",
    "    for j in i:\n",
    "        for k in j:\n",
    "            if(k!=0):\n",
    "                no.append(k)\n",
    "    l_var.append(np.var(np.unique(no)))"
   ]
  },
  {
   "cell_type": "code",
   "execution_count": 242,
   "id": "790f03dc",
   "metadata": {},
   "outputs": [],
   "source": [
    "l_min = []\n",
    "for i in dist_mat:\n",
    "    no = []\n",
    "    for j in i[0]:\n",
    "        if(j!=0):\n",
    "            no.append(j)\n",
    "    l_min.append(np.min(no))"
   ]
  },
  {
   "cell_type": "code",
   "execution_count": 243,
   "id": "6ac8794f",
   "metadata": {},
   "outputs": [],
   "source": [
    "symb_encode = OneHotEncoder()"
   ]
  },
  {
   "cell_type": "code",
   "execution_count": 244,
   "id": "0c481cd4",
   "metadata": {},
   "outputs": [
    {
     "data": {
      "text/plain": [
       "array([[1., 0., 0., 0., 0., 0., 0., 0., 0.],\n",
       "       [0., 1., 0., 0., 0., 0., 0., 0., 0.],\n",
       "       [0., 0., 1., 0., 0., 0., 0., 0., 0.],\n",
       "       [0., 0., 0., 1., 0., 0., 0., 0., 0.],\n",
       "       [0., 0., 0., 0., 1., 0., 0., 0., 0.],\n",
       "       [0., 0., 0., 0., 0., 1., 0., 0., 0.],\n",
       "       [0., 0., 0., 0., 0., 0., 1., 0., 0.],\n",
       "       [0., 0., 0., 0., 0., 0., 0., 1., 0.],\n",
       "       [0., 0., 0., 0., 0., 0., 0., 0., 1.]])"
      ]
     },
     "execution_count": 244,
     "metadata": {},
     "output_type": "execute_result"
    }
   ],
   "source": [
    "symb_encode.fit_transform(np.unique(np.concatenate(padded_symb)).reshape(-1,1)).toarray()"
   ]
  },
  {
   "cell_type": "code",
   "execution_count": 245,
   "id": "1c1fc86a",
   "metadata": {},
   "outputs": [],
   "source": [
    "symb_coded = np.array(symb_encode.transform(padded_symb.reshape(-1,1)).toarray()).reshape(len(padded_symb),31,9)"
   ]
  },
  {
   "cell_type": "code",
   "execution_count": 246,
   "id": "8bdc7b2e",
   "metadata": {},
   "outputs": [],
   "source": [
    "so = symb_coded[:,:,1:]\n",
    "so = so.sum(axis = 1)"
   ]
  },
  {
   "cell_type": "code",
   "execution_count": null,
   "id": "d2439886",
   "metadata": {},
   "outputs": [],
   "source": []
  },
  {
   "cell_type": "code",
   "execution_count": 47,
   "id": "11169550",
   "metadata": {},
   "outputs": [],
   "source": [
    "import torch"
   ]
  },
  {
   "cell_type": "code",
   "execution_count": 52,
   "id": "7aba89c3",
   "metadata": {},
   "outputs": [],
   "source": [
    "regr = torch.load('regr')\n",
    "scaler = torch.load('scaler')"
   ]
  },
  {
   "cell_type": "code",
   "execution_count": 265,
   "id": "5af98cfc",
   "metadata": {},
   "outputs": [],
   "source": [
    "l_var = np.array(l_var).reshape(-1,1)\n",
    "l_mean = np.array(l_mean).reshape(-1,1)\n",
    "l_max = np.array(l_max).reshape(-1,1)\n",
    "l_min = np.array(l_min).reshape(-1,1)\n",
    "X_test = np.concatenate([so, l_min, l_max, l_mean,l_var], axis = 1)\n",
    "X_test = scaler.transform(X_test)"
   ]
  },
  {
   "cell_type": "code",
   "execution_count": 54,
   "id": "6a8870e7",
   "metadata": {},
   "outputs": [],
   "source": [
    "ans = regr.predict(X_test)"
   ]
  },
  {
   "cell_type": "code",
   "execution_count": 65,
   "id": "b9a2f2a7",
   "metadata": {},
   "outputs": [],
   "source": [
    "df = pd.DataFrame()\n",
    "df['id'] = np.arange(1,len(ans)+1)\n",
    "df['energy'] = ans"
   ]
  },
  {
   "cell_type": "code",
   "execution_count": 66,
   "id": "6f5ddd3e",
   "metadata": {},
   "outputs": [],
   "source": [
    "df.to_csv('ans0.csv', index = False)"
   ]
  },
  {
   "cell_type": "code",
   "execution_count": 67,
   "id": "316887d8",
   "metadata": {},
   "outputs": [],
   "source": [
    "emb = torch.load('emb1')"
   ]
  },
  {
   "cell_type": "code",
   "execution_count": 69,
   "id": "8eac2cbc",
   "metadata": {},
   "outputs": [
    {
     "data": {
      "text/plain": [
       "(40000, 768)"
      ]
     },
     "execution_count": 69,
     "metadata": {},
     "output_type": "execute_result"
    }
   ],
   "source": [
    "np.concatenate(emb).shape"
   ]
  },
  {
   "cell_type": "code",
   "execution_count": 275,
   "id": "1b71ee47",
   "metadata": {},
   "outputs": [
    {
     "ename": "ValueError",
     "evalue": "Found input variables with inconsistent numbers of samples: [32884, 32884, 200232, 32884, 32884, 32884, 32884, 32884, 32884, 32884]",
     "output_type": "error",
     "traceback": [
      "\u001b[0;31m---------------------------------------------------------------------------\u001b[0m",
      "\u001b[0;31mValueError\u001b[0m                                Traceback (most recent call last)",
      "\u001b[0;32m/tmp/ipykernel_12780/3662671252.py\u001b[0m in \u001b[0;36m<module>\u001b[0;34m\u001b[0m\n\u001b[0;32m----> 1\u001b[0;31m \u001b[0mdist_train\u001b[0m\u001b[0;34m,\u001b[0m \u001b[0mdist_test\u001b[0m\u001b[0;34m,\u001b[0m  \u001b[0msymb_train\u001b[0m\u001b[0;34m,\u001b[0m \u001b[0msymb_test\u001b[0m\u001b[0;34m,\u001b[0m \u001b[0mnum_train\u001b[0m\u001b[0;34m,\u001b[0m \u001b[0mnum_test\u001b[0m\u001b[0;34m,\u001b[0m \u001b[0menergy_train\u001b[0m\u001b[0;34m,\u001b[0m \u001b[0menergy_test\u001b[0m\u001b[0;34m,\u001b[0m \u001b[0mso_train\u001b[0m\u001b[0;34m,\u001b[0m \u001b[0mso_test\u001b[0m\u001b[0;34m,\u001b[0m \u001b[0mmin_train\u001b[0m\u001b[0;34m,\u001b[0m \u001b[0mmin_test\u001b[0m\u001b[0;34m,\u001b[0m \u001b[0mmax_train\u001b[0m\u001b[0;34m,\u001b[0m \u001b[0mmax_test\u001b[0m\u001b[0;34m,\u001b[0m \u001b[0mmean_train\u001b[0m\u001b[0;34m,\u001b[0m \u001b[0mmean_test\u001b[0m\u001b[0;34m,\u001b[0m \u001b[0mvar_train\u001b[0m\u001b[0;34m,\u001b[0m \u001b[0mvar_test\u001b[0m\u001b[0;34m,\u001b[0m \u001b[0mno_train\u001b[0m\u001b[0;34m,\u001b[0m \u001b[0mno_test\u001b[0m \u001b[0;34m=\u001b[0m \u001b[0mtrain_test_split\u001b[0m\u001b[0;34m(\u001b[0m\u001b[0mmasked_dist\u001b[0m\u001b[0;34m,\u001b[0m \u001b[0msymb_coded\u001b[0m\u001b[0;34m,\u001b[0m\u001b[0mpadded_num\u001b[0m \u001b[0;34m,\u001b[0m\u001b[0menergy\u001b[0m\u001b[0;34m,\u001b[0m \u001b[0mso\u001b[0m\u001b[0;34m,\u001b[0m \u001b[0ml_min\u001b[0m\u001b[0;34m,\u001b[0m \u001b[0ml_max\u001b[0m\u001b[0;34m,\u001b[0m \u001b[0ml_mean\u001b[0m\u001b[0;34m,\u001b[0m \u001b[0ml_var\u001b[0m\u001b[0;34m,\u001b[0m \u001b[0mno\u001b[0m\u001b[0;34m,\u001b[0m\u001b[0mtest_size\u001b[0m\u001b[0;34m=\u001b[0m\u001b[0;36m0.1\u001b[0m\u001b[0;34m)\u001b[0m\u001b[0;34m\u001b[0m\u001b[0;34m\u001b[0m\u001b[0m\n\u001b[0m",
      "\u001b[0;32m~/venv37/lib/python3.7/site-packages/sklearn/model_selection/_split.py\u001b[0m in \u001b[0;36mtrain_test_split\u001b[0;34m(test_size, train_size, random_state, shuffle, stratify, *arrays)\u001b[0m\n\u001b[1;32m   2415\u001b[0m         \u001b[0;32mraise\u001b[0m \u001b[0mValueError\u001b[0m\u001b[0;34m(\u001b[0m\u001b[0;34m\"At least one array required as input\"\u001b[0m\u001b[0;34m)\u001b[0m\u001b[0;34m\u001b[0m\u001b[0;34m\u001b[0m\u001b[0m\n\u001b[1;32m   2416\u001b[0m \u001b[0;34m\u001b[0m\u001b[0m\n\u001b[0;32m-> 2417\u001b[0;31m     \u001b[0marrays\u001b[0m \u001b[0;34m=\u001b[0m \u001b[0mindexable\u001b[0m\u001b[0;34m(\u001b[0m\u001b[0;34m*\u001b[0m\u001b[0marrays\u001b[0m\u001b[0;34m)\u001b[0m\u001b[0;34m\u001b[0m\u001b[0;34m\u001b[0m\u001b[0m\n\u001b[0m\u001b[1;32m   2418\u001b[0m \u001b[0;34m\u001b[0m\u001b[0m\n\u001b[1;32m   2419\u001b[0m     \u001b[0mn_samples\u001b[0m \u001b[0;34m=\u001b[0m \u001b[0m_num_samples\u001b[0m\u001b[0;34m(\u001b[0m\u001b[0marrays\u001b[0m\u001b[0;34m[\u001b[0m\u001b[0;36m0\u001b[0m\u001b[0;34m]\u001b[0m\u001b[0;34m)\u001b[0m\u001b[0;34m\u001b[0m\u001b[0;34m\u001b[0m\u001b[0m\n",
      "\u001b[0;32m~/venv37/lib/python3.7/site-packages/sklearn/utils/validation.py\u001b[0m in \u001b[0;36mindexable\u001b[0;34m(*iterables)\u001b[0m\n\u001b[1;32m    376\u001b[0m \u001b[0;34m\u001b[0m\u001b[0m\n\u001b[1;32m    377\u001b[0m     \u001b[0mresult\u001b[0m \u001b[0;34m=\u001b[0m \u001b[0;34m[\u001b[0m\u001b[0m_make_indexable\u001b[0m\u001b[0;34m(\u001b[0m\u001b[0mX\u001b[0m\u001b[0;34m)\u001b[0m \u001b[0;32mfor\u001b[0m \u001b[0mX\u001b[0m \u001b[0;32min\u001b[0m \u001b[0miterables\u001b[0m\u001b[0;34m]\u001b[0m\u001b[0;34m\u001b[0m\u001b[0;34m\u001b[0m\u001b[0m\n\u001b[0;32m--> 378\u001b[0;31m     \u001b[0mcheck_consistent_length\u001b[0m\u001b[0;34m(\u001b[0m\u001b[0;34m*\u001b[0m\u001b[0mresult\u001b[0m\u001b[0;34m)\u001b[0m\u001b[0;34m\u001b[0m\u001b[0;34m\u001b[0m\u001b[0m\n\u001b[0m\u001b[1;32m    379\u001b[0m     \u001b[0;32mreturn\u001b[0m \u001b[0mresult\u001b[0m\u001b[0;34m\u001b[0m\u001b[0;34m\u001b[0m\u001b[0m\n\u001b[1;32m    380\u001b[0m \u001b[0;34m\u001b[0m\u001b[0m\n",
      "\u001b[0;32m~/venv37/lib/python3.7/site-packages/sklearn/utils/validation.py\u001b[0m in \u001b[0;36mcheck_consistent_length\u001b[0;34m(*arrays)\u001b[0m\n\u001b[1;32m    332\u001b[0m         raise ValueError(\n\u001b[1;32m    333\u001b[0m             \u001b[0;34m\"Found input variables with inconsistent numbers of samples: %r\"\u001b[0m\u001b[0;34m\u001b[0m\u001b[0;34m\u001b[0m\u001b[0m\n\u001b[0;32m--> 334\u001b[0;31m             \u001b[0;34m%\u001b[0m \u001b[0;34m[\u001b[0m\u001b[0mint\u001b[0m\u001b[0;34m(\u001b[0m\u001b[0ml\u001b[0m\u001b[0;34m)\u001b[0m \u001b[0;32mfor\u001b[0m \u001b[0ml\u001b[0m \u001b[0;32min\u001b[0m \u001b[0mlengths\u001b[0m\u001b[0;34m]\u001b[0m\u001b[0;34m\u001b[0m\u001b[0;34m\u001b[0m\u001b[0m\n\u001b[0m\u001b[1;32m    335\u001b[0m         )\n\u001b[1;32m    336\u001b[0m \u001b[0;34m\u001b[0m\u001b[0m\n",
      "\u001b[0;31mValueError\u001b[0m: Found input variables with inconsistent numbers of samples: [32884, 32884, 200232, 32884, 32884, 32884, 32884, 32884, 32884, 32884]"
     ]
    }
   ],
   "source": [
    "dist_train, dist_test,  symb_train, symb_test, num_train, num_test, energy_train, energy_test, so_train, so_test, min_train, min_test, max_train, max_test, mean_train, mean_test, var_train, var_test, no_train, no_test = train_test_split(masked_dist, symb_coded,padded_num ,energy, so, l_min, l_max, l_mean, l_var, no,test_size=0.1)"
   ]
  },
  {
   "cell_type": "code",
   "execution_count": 52,
   "id": "3c0127d2",
   "metadata": {},
   "outputs": [],
   "source": [
    "dist_train = dist_train.astype(np.float32)\n",
    "dist_test = dist_test.astype(np.float32)\n",
    "symb_train = symb_train.astype(np.float32)\n",
    "symb_test = symb_test.astype(np.float32)\n",
    "num_train = num_train.astype(np.float32)\n",
    "num_test = num_test.astype(np.float32)\n",
    "energy_train = energy_train.astype(np.float32)\n",
    "energy_test = energy_test.astype(np.float32)\n",
    "so_train = so_train.astype(np.float32)\n",
    "so_test = so_test.astype(np.float32)"
   ]
  },
  {
   "cell_type": "code",
   "execution_count": null,
   "id": "02f5b152",
   "metadata": {},
   "outputs": [],
   "source": []
  },
  {
   "cell_type": "code",
   "execution_count": 628,
   "id": "48820b17",
   "metadata": {},
   "outputs": [],
   "source": [
    "batch_size = 8\n",
    "train_loader = DataLoader(list(zip(dist_train, symb_train,num_train, energy_train, so_train)), \n",
    "                     batch_size=batch_size, shuffle=True)\n",
    "\n",
    "test_loader = DataLoader(list(zip(dist_test, symb_test,num_test, energy_test, so_test)), \n",
    "                     batch_size=batch_size, shuffle=True)"
   ]
  },
  {
   "cell_type": "code",
   "execution_count": 696,
   "id": "74fa34fc",
   "metadata": {},
   "outputs": [
    {
     "data": {
      "text/plain": [
       "array([ 2, 11, 11, ...,  4,  4,  4], dtype=int32)"
      ]
     },
     "execution_count": 696,
     "metadata": {},
     "output_type": "execute_result"
    }
   ],
   "source": [
    "from sklearn.cluster import KMeans\n",
    "import numpy as np\n",
    "kmeans = KMeans(n_clusters=25, random_state=0).fit(energy.reshape(-1,1))\n",
    "kmeans.labels_"
   ]
  },
  {
   "cell_type": "code",
   "execution_count": 697,
   "id": "2b601760",
   "metadata": {},
   "outputs": [],
   "source": [
    "df = pd.DataFrame()\n",
    "df['cl'] = kmeans.labels_"
   ]
  },
  {
   "cell_type": "code",
   "execution_count": 698,
   "id": "87e3744e",
   "metadata": {},
   "outputs": [
    {
     "data": {
      "text/plain": [
       "0     20434\n",
       "8     18731\n",
       "11    14375\n",
       "18    12394\n",
       "22    11626\n",
       "5     11459\n",
       "10    10999\n",
       "20    10482\n",
       "7      8607\n",
       "24     8518\n",
       "23     8222\n",
       "19     8194\n",
       "15     7935\n",
       "1      6594\n",
       "4      6458\n",
       "2      6297\n",
       "9      6007\n",
       "17     4889\n",
       "13     4584\n",
       "21     4095\n",
       "14     3833\n",
       "6      3137\n",
       "12     1322\n",
       "16      602\n",
       "3       438\n",
       "Name: cl, dtype: int64"
      ]
     },
     "execution_count": 698,
     "metadata": {},
     "output_type": "execute_result"
    }
   ],
   "source": [
    "df['cl'].value_counts()"
   ]
  },
  {
   "cell_type": "code",
   "execution_count": 709,
   "id": "0a41a4eb",
   "metadata": {},
   "outputs": [
    {
     "data": {
      "text/plain": [
       "(array([374., 365., 610., 641., 313., 411., 461., 248., 364., 308.]),\n",
       " array([-2033.32635831, -2021.28483855, -2009.24331878, -1997.20179902,\n",
       "        -1985.16027925, -1973.11875948, -1961.07723972, -1949.03571995,\n",
       "        -1936.99420019, -1924.95268042, -1912.91116065]),\n",
       " <BarContainer object of 10 artists>)"
      ]
     },
     "execution_count": 709,
     "metadata": {},
     "output_type": "execute_result"
    },
    {
     "data": {
      "image/png": "[encoded data removed]",
      "text/plain": [
       "<Figure size 432x288 with 1 Axes>"
      ]
     },
     "metadata": {
      "needs_background": "light"
     },
     "output_type": "display_data"
    }
   ],
   "source": [
    "plt.hist(energy[kmeans.labels_ == 21])"
   ]
  },
  {
   "cell_type": "code",
   "execution_count": 724,
   "id": "3a23b541",
   "metadata": {},
   "outputs": [
    {
     "name": "stdout",
     "output_type": "stream",
     "text": [
      "fatal: destination path 'snn' already exists and is not an empty directory.\r\n"
     ]
    }
   ],
   "source": [
    "!git clone  https://github.com/bond005/snn.git"
   ]
  },
  {
   "cell_type": "code",
   "execution_count": 762,
   "id": "478f1a79",
   "metadata": {},
   "outputs": [
    {
     "data": {
      "text/plain": [
       "array([-1756.70839253, -1297.30795219, -1297.29039335, ...,\n",
       "       -3713.21114954, -3713.19767423, -3713.19525208])"
      ]
     },
     "execution_count": 762,
     "metadata": {},
     "output_type": "execute_result"
    }
   ],
   "source": [
    "energy\n"
   ]
  },
  {
   "cell_type": "code",
   "execution_count": 761,
   "id": "1ead3d83",
   "metadata": {},
   "outputs": [
    {
     "name": "stdout",
     "output_type": "stream",
     "text": [
      "Collecting tensorflow_addons\n",
      "  Downloading tensorflow_addons-0.17.1-cp37-cp37m-manylinux_2_17_x86_64.manylinux2014_x86_64.whl (1.1 MB)\n",
      "\u001b[2K     \u001b[90m━━━━━━━━━━━━━━━━━━━━━━━━━━━━━━━━━━━━━━━━\u001b[0m \u001b[32m1.1/1.1 MB\u001b[0m \u001b[31m2.5 MB/s\u001b[0m eta \u001b[36m0:00:00\u001b[0m00:01\u001b[0m00:01\u001b[0m0m\n",
      "\u001b[?25hCollecting typeguard>=2.7\n",
      "  Downloading typeguard-2.13.3-py3-none-any.whl (17 kB)\n",
      "Requirement already satisfied: packaging in /home/legchenko/venv37/lib/python3.7/site-packages (from tensorflow_addons) (21.3)\n",
      "Requirement already satisfied: pyparsing!=3.0.5,>=2.0.2 in /home/legchenko/venv37/lib/python3.7/site-packages (from packaging->tensorflow_addons) (2.4.7)\n",
      "Installing collected packages: typeguard, tensorflow_addons\n",
      "Successfully installed tensorflow_addons-0.17.1 typeguard-2.13.3\n",
      "\u001b[33mWARNING: There was an error checking the latest version of pip.\u001b[0m\u001b[33m\n",
      "\u001b[0mNote: you may need to restart the kernel to use updated packages.\n"
     ]
    }
   ],
   "source": [
    "pip install tensorflow_addons"
   ]
  },
  {
   "cell_type": "code",
   "execution_count": 757,
   "id": "86eebda9",
   "metadata": {},
   "outputs": [],
   "source": [
    "for name, obj in inspect.getmembers(snn):\n",
    "    if inspect.isclass(obj):\n",
    "        print(obj)\n"
   ]
  },
  {
   "cell_type": "code",
   "execution_count": 712,
   "id": "c228de11",
   "metadata": {},
   "outputs": [
    {
     "name": "stdout",
     "output_type": "stream",
     "text": [
      "\u001b[0m\u001b[01;32mase_database_example.py\u001b[0m*        \u001b[01;32mnohup.out\u001b[0m*                      \u001b[01;32mtrain.db\u001b[0m*\r\n",
      "\u001b[34;42mgrover\u001b[0m/                         \u001b[01;32msample_submission_molhack.csv\u001b[0m*  \u001b[01;32mUntitled.ipynb\u001b[0m*\r\n",
      "\u001b[01;32mgrover_large.tar.gz\u001b[0m*            \u001b[01;32msmiles_train.rar\u001b[0m*               \u001b[34;42mxyz2mol\u001b[0m/\r\n",
      "\u001b[01;32mlinear_regression_baseline.py\u001b[0m*  \u001b[34;42msnn\u001b[0m/\r\n",
      "\u001b[01;32mmolhack-2022.zip\u001b[0m*               \u001b[01;32mtest.db\u001b[0m*\r\n"
     ]
    }
   ],
   "source": [
    "# Эксперименты с автокодировщиком "
   ]
  },
  {
   "cell_type": "code",
   "execution_count": 629,
   "id": "993996c4",
   "metadata": {},
   "outputs": [],
   "source": [
    "e = 64\n",
    "m = 256\n",
    "d = 0.1\n",
    "\n",
    "symb_encoder = nn.Sequential(\n",
    "          nn.Linear(9, e),\n",
    "          nn.LeakyReLU(),\n",
    "          nn.Dropout(d),\n",
    "          nn.Linear(e,e),\n",
    "          nn.LeakyReLU()\n",
    "        )\n",
    "\n",
    "dist_encoder = nn.Sequential(\n",
    "          nn.Linear(31, e),\n",
    "          nn.LeakyReLU(),\n",
    "          nn.Dropout(d),\n",
    "          nn.Linear(e, e),\n",
    "          nn.LeakyReLU()\n",
    "        )\n",
    "\n",
    "num_encoder = nn.Sequential(\n",
    "          nn.Linear(31, e),\n",
    "          nn.LeakyReLU(),\n",
    "          nn.Dropout(d),\n",
    "          nn.Linear(e,e),\n",
    "          nn.LeakyReLU()\n",
    "        )\n",
    "\n",
    "encoder = nn.Sequential(\n",
    "          nn.Linear(e*3, m),\n",
    "          nn.LeakyReLU(),\n",
    "          nn.Dropout(d),\n",
    "          nn.Linear(m,int(m/2)),\n",
    "          nn.LeakyReLU(),\n",
    "          nn.Linear(int(m/2),int(m/4)),\n",
    "          nn.LeakyReLU()\n",
    "        )\n",
    "\n",
    "decoder  = nn.Sequential(\n",
    "          nn.Linear(int(m/4), int(m/2)),\n",
    "          nn.LeakyReLU(),\n",
    "          nn.Dropout(d),\n",
    "          nn.Linear(int(m/2),m),\n",
    "          nn.LeakyReLU(),\n",
    "          nn.Dropout(d),\n",
    "          nn.Linear(m, e*3),\n",
    "          nn.LeakyReLU()\n",
    "        )\n",
    "\n",
    "\n",
    "num_decoder = nn.Sequential(\n",
    "          nn.Linear(e*3, e),\n",
    "          nn.LeakyReLU(),\n",
    "          nn.Dropout(d),\n",
    "          nn.Linear(e,31),\n",
    "          nn.LeakyReLU()\n",
    "        )\n",
    "\n",
    "symb_decoder = nn.Sequential(\n",
    "          nn.Linear(e*3, e),\n",
    "          nn.LeakyReLU(),\n",
    "          nn.Dropout(d),\n",
    "          nn.Linear(e,9),\n",
    "          #nn.LeakyReLU()\n",
    "        )\n",
    "\n",
    "dist_decoder = nn.Sequential(\n",
    "          nn.Linear(e*3, e),\n",
    "          nn.LeakyReLU(),\n",
    "          nn.Dropout(d),\n",
    "          nn.Linear(e,31),\n",
    "          nn.LeakyReLU()\n",
    "        )\n",
    "\n",
    "cl_head = nn.Sequential(\n",
    "          nn.Linear(int(m/4)+8, int(m/2)),\n",
    "          nn.LeakyReLU(),\n",
    "          nn.Dropout(d),\n",
    "          nn.Linear(int(m/2),int(m/2)),\n",
    "          nn.LeakyReLU(),\n",
    "          nn.Linear(int(m/2),1),\n",
    "        )"
   ]
  },
  {
   "cell_type": "code",
   "execution_count": 630,
   "id": "9aec5fa0",
   "metadata": {},
   "outputs": [],
   "source": [
    "ae = [symb_encoder, dist_encoder, num_encoder, encoder, decoder, num_decoder,dist_decoder, symb_decoder, cl_head]"
   ]
  },
  {
   "cell_type": "code",
   "execution_count": 631,
   "id": "02cd39d8",
   "metadata": {},
   "outputs": [],
   "source": [
    "def train(ae, opt, lr, loss_reg, loss_cl, epochs, data_tr, data_val):\n",
    "    params = []\n",
    "    for i in ae:\n",
    "        params+=list(i.parameters())\n",
    "    optimizer = opt(params, lr = lr)\n",
    "    scheduler = torch.optim.lr_scheduler.ExponentialLR(optimizer, gamma=0.97)\n",
    "    hist_loss = []\n",
    "    accuracy = []\n",
    "    val_accuracy = []\n",
    "    hist_val_loss = []\n",
    "    for epoch in range(epochs):\n",
    "        print('* Epoch %d/%d' % (epoch+1, epochs))\n",
    "        \n",
    "        dist_loss = 0\n",
    "        num_loss = 0\n",
    "        symb_loss = 0\n",
    "        pred_loss = 0\n",
    "        ac = 0\n",
    "        for i in ae:\n",
    "            i.train()  # train mode\n",
    "        n = 0\n",
    "        for dist_batch, symb_batch,num_batch, energy_batch, so_batch in data_tr:\n",
    "            # data to device\n",
    "            dist = dist_batch.view([dist_batch.shape[0]*dist_batch.shape[1], 31]).to(device)\n",
    "            symb = symb_batch.view([symb_batch.shape[0]*symb_batch.shape[1], 9]).to(device)\n",
    "            num = [list(num_batch.numpy())]*31\n",
    "            num = torch.tensor(np.concatenate(num)).to(device)\n",
    "            energy = energy_batch.to(device).reshape(energy_batch.shape[0],1)\n",
    "            so = so_batch.to(device)\n",
    "            \n",
    "            # set parameter gradients to zero\n",
    "            optimizer.zero_grad()\n",
    "\n",
    "            s_cod = ae[0](symb)\n",
    "            d_cod = ae[1](dist)\n",
    "            n_cod = ae[2](num)\n",
    "            \n",
    "            #print(s_cod.shape)\n",
    "            #print(d_cod.shape)\n",
    "            vec = torch.concat([s_cod, d_cod, n_cod], axis = 1)\n",
    "            #print(vec.shape)\n",
    "            cod = ae[3](vec)\n",
    "            mean = torch.mean(cod.view(dist_batch.shape[0], 31, cod.shape[-1]), axis = 1)\n",
    "            conc = torch.concat([mean, so], axis = 1)\n",
    "            pred = ae[8](conc)\n",
    "            \n",
    "            decod = ae[4](cod)\n",
    "            \n",
    "            n_decod = ae[5](decod)\n",
    "            d_decod = ae[6](decod)\n",
    "            s_decod = ae[7](decod)\n",
    "            \n",
    "            \n",
    "            \n",
    "            # forward\n",
    "            loss_d = loss_reg(d_decod, dist)\n",
    "            loss_s = loss_cl(s_decod, symb)\n",
    "            loss_n = loss_reg(n_decod, num)\n",
    "            loss_p = loss_reg(pred, energy)\n",
    "            loss =  loss_d*10 + loss_s + loss_n+loss_p*0.0001 # forward-pass\n",
    "            \n",
    "            \n",
    "            loss.backward()  # backward-pass\n",
    "            torch.nn.utils.clip_grad_norm(params, 0.001)\n",
    "            optimizer.step()  # update weights\n",
    "\n",
    "            dist_loss += loss_d.item() / len(data_tr)\n",
    "            num_loss += loss_n.item() / len(data_tr)\n",
    "            symb_loss += loss_s.item() / len(data_tr)\n",
    "            pred_loss += loss_p.item() / len(data_tr)\n",
    "        scheduler.step()\n",
    "        print('loss: %f' % (dist_loss+num_loss+symb_loss+pred_loss))\n",
    "        hist_loss.append([dist_loss, num_loss, symb_loss, pred_loss])\n",
    "\n",
    "        # show intermediate results\n",
    "        for i in ae:\n",
    "            i.eval()  # testing mode\n",
    "        dist_loss = 0\n",
    "        num_loss = 0\n",
    "        symb_loss = 0\n",
    "        pred_loss = 0\n",
    "        for dist_batch, symb_batch,num_batch, energy_batch, so_batch in data_val:\n",
    "            dist = dist_batch.view([dist_batch.shape[0]*dist_batch.shape[1], 31]).to(device)\n",
    "            symb = symb_batch.view([symb_batch.shape[0]*symb_batch.shape[1], 9]).to(device)\n",
    "            num = [list(num_batch.numpy())]*31\n",
    "            num = torch.tensor(np.concatenate(num)).to(device)\n",
    "            energy = energy_batch.to(device).reshape(energy_batch.shape[0],1)\n",
    "            so = so_batch.to(device)\n",
    "            \n",
    "            # set parameter gradients to zero\n",
    "            optimizer.zero_grad()\n",
    "\n",
    "            s_cod = ae[0](symb)\n",
    "            d_cod = ae[1](dist)\n",
    "            n_cod = ae[2](num)\n",
    "            \n",
    "            #print(s_cod.shape)\n",
    "            #print(d_cod.shape)\n",
    "            vec = torch.concat([s_cod, d_cod, n_cod], axis = 1)\n",
    "            #print(vec.shape)\n",
    "            cod = ae[3](vec)\n",
    "            mean = torch.mean(cod.view(dist_batch.shape[0], 31, cod.shape[-1]), axis = 1)\n",
    "            conc = torch.concat([mean, so], axis = 1)\n",
    "            pred = ae[8](conc)\n",
    "            \n",
    "            decod = ae[4](cod)\n",
    "            \n",
    "            n_decod = ae[5](decod)\n",
    "            d_decod = ae[6](decod)\n",
    "            s_decod = ae[7](decod)\n",
    "            \n",
    "            \n",
    "            # forward\n",
    "            loss_d = loss_reg(d_decod, dist)\n",
    "            loss_s = loss_cl(s_decod, symb)\n",
    "            loss_n = loss_reg(n_decod, num)\n",
    "            pred_loss += loss_p.item() / len(data_tr)\n",
    "            #loss =  loss_d + loss_s + loss_n # forward-pass\n",
    "\n",
    "            dist_loss += loss_d.item() / len(data_tr)\n",
    "            num_loss += loss_n.item() / len(data_tr)\n",
    "            symb_loss += loss_s.item() / len(data_tr)\n",
    "            pred_loss += loss_p.item() / len(data_tr)\n",
    "        print('loss: %f' % (dist_loss+num_loss+symb_loss+pred_loss))\n",
    "        hist_val_loss.append([dist_loss, num_loss, symb_loss, pred_loss])\n",
    "        # Visualize tools\n",
    "        if(epoch%10==0):\n",
    "            l = np.array(hist_loss)\n",
    "            vl = np.array(hist_val_loss)\n",
    "            clear_output(wait=True)\n",
    "            plt.figure(figsize=[10,20])\n",
    "            plt.subplot(4, 1, 1)\n",
    "            plt.plot(l[:,0])\n",
    "            plt.plot(vl[:,0],linestyle = '--')\n",
    "            \n",
    "            plt.subplot(4, 1, 2)\n",
    "            plt.plot(l[:,1])\n",
    "            plt.plot(vl[:,1],linestyle = '--')\n",
    "            \n",
    "            plt.subplot(4, 1, 3)\n",
    "            plt.plot(l[:,2])\n",
    "            plt.plot(vl[:,2],linestyle = '--')\n",
    "            \n",
    "            plt.subplot(4, 1, 4)\n",
    "            plt.plot(l[:,3])\n",
    "            plt.plot(vl[:,3],linestyle = '--')\n",
    "            plt.show()\n",
    "\n",
    "    return hist_loss, hist_val_loss"
   ]
  },
  {
   "cell_type": "code",
   "execution_count": 632,
   "id": "f2cef464",
   "metadata": {
    "scrolled": true
   },
   "outputs": [
    {
     "data": {
      "image/png": "[encoded data removed]",
      "text/plain": [
       "<Figure size 720x1440 with 4 Axes>"
      ]
     },
     "metadata": {
      "needs_background": "light"
     },
     "output_type": "display_data"
    },
    {
     "name": "stdout",
     "output_type": "stream",
     "text": [
      "* Epoch 12/20\n"
     ]
    },
    {
     "name": "stderr",
     "output_type": "stream",
     "text": [
      "/home/legchenko/venv37/lib/python3.7/site-packages/ipykernel_launcher.py:64: UserWarning: torch.nn.utils.clip_grad_norm is now deprecated in favor of torch.nn.utils.clip_grad_norm_.\n"
     ]
    },
    {
     "name": "stdout",
     "output_type": "stream",
     "text": [
      "loss: 8998.794127\n",
      "loss: 4796.624829\n",
      "* Epoch 13/20\n",
      "loss: 8626.838290\n",
      "loss: 1747.795126\n",
      "* Epoch 14/20\n"
     ]
    },
    {
     "ename": "KeyboardInterrupt",
     "evalue": "",
     "output_type": "error",
     "traceback": [
      "\u001b[0;31m---------------------------------------------------------------------------\u001b[0m",
      "\u001b[0;31mKeyboardInterrupt\u001b[0m                         Traceback (most recent call last)",
      "\u001b[0;32m/tmp/ipykernel_31587/3861619724.py\u001b[0m in \u001b[0;36m<module>\u001b[0;34m\u001b[0m\n\u001b[1;32m      5\u001b[0m \u001b[0mmax_epochs\u001b[0m \u001b[0;34m=\u001b[0m \u001b[0;36m20\u001b[0m\u001b[0;34m\u001b[0m\u001b[0;34m\u001b[0m\u001b[0m\n\u001b[1;32m      6\u001b[0m \u001b[0moptim\u001b[0m \u001b[0;34m=\u001b[0m \u001b[0mtorch\u001b[0m\u001b[0;34m.\u001b[0m\u001b[0moptim\u001b[0m\u001b[0;34m.\u001b[0m\u001b[0mAdamW\u001b[0m\u001b[0;34m\u001b[0m\u001b[0;34m\u001b[0m\u001b[0m\n\u001b[0;32m----> 7\u001b[0;31m \u001b[0mloss\u001b[0m\u001b[0;34m,\u001b[0m \u001b[0mval_loss\u001b[0m \u001b[0;34m=\u001b[0m \u001b[0mtrain\u001b[0m\u001b[0;34m(\u001b[0m\u001b[0mae\u001b[0m\u001b[0;34m,\u001b[0m \u001b[0moptim\u001b[0m\u001b[0;34m,\u001b[0m \u001b[0;36m0.0001\u001b[0m\u001b[0;34m,\u001b[0m \u001b[0mnn\u001b[0m\u001b[0;34m.\u001b[0m\u001b[0mMSELoss\u001b[0m\u001b[0;34m(\u001b[0m\u001b[0mreduce\u001b[0m \u001b[0;34m=\u001b[0m \u001b[0;32mNone\u001b[0m\u001b[0;34m)\u001b[0m\u001b[0;34m,\u001b[0m \u001b[0mnn\u001b[0m\u001b[0;34m.\u001b[0m\u001b[0mCrossEntropyLoss\u001b[0m\u001b[0;34m(\u001b[0m\u001b[0mreduce\u001b[0m\u001b[0;34m=\u001b[0m\u001b[0;32mNone\u001b[0m\u001b[0;34m)\u001b[0m\u001b[0;34m,\u001b[0m \u001b[0mmax_epochs\u001b[0m\u001b[0;34m,\u001b[0m \u001b[0mtrain_loader\u001b[0m\u001b[0;34m,\u001b[0m \u001b[0mtest_loader\u001b[0m\u001b[0;34m)\u001b[0m\u001b[0;34m\u001b[0m\u001b[0;34m\u001b[0m\u001b[0m\n\u001b[0m",
      "\u001b[0;32m/tmp/ipykernel_31587/3816164366.py\u001b[0m in \u001b[0;36mtrain\u001b[0;34m(ae, opt, lr, loss_reg, loss_cl, epochs, data_tr, data_val)\u001b[0m\n\u001b[1;32m     62\u001b[0m \u001b[0;34m\u001b[0m\u001b[0m\n\u001b[1;32m     63\u001b[0m             \u001b[0mloss\u001b[0m\u001b[0;34m.\u001b[0m\u001b[0mbackward\u001b[0m\u001b[0;34m(\u001b[0m\u001b[0;34m)\u001b[0m  \u001b[0;31m# backward-pass\u001b[0m\u001b[0;34m\u001b[0m\u001b[0;34m\u001b[0m\u001b[0m\n\u001b[0;32m---> 64\u001b[0;31m             \u001b[0mtorch\u001b[0m\u001b[0;34m.\u001b[0m\u001b[0mnn\u001b[0m\u001b[0;34m.\u001b[0m\u001b[0mutils\u001b[0m\u001b[0;34m.\u001b[0m\u001b[0mclip_grad_norm\u001b[0m\u001b[0;34m(\u001b[0m\u001b[0mparams\u001b[0m\u001b[0;34m,\u001b[0m \u001b[0;36m0.001\u001b[0m\u001b[0;34m)\u001b[0m\u001b[0;34m\u001b[0m\u001b[0;34m\u001b[0m\u001b[0m\n\u001b[0m\u001b[1;32m     65\u001b[0m             \u001b[0moptimizer\u001b[0m\u001b[0;34m.\u001b[0m\u001b[0mstep\u001b[0m\u001b[0;34m(\u001b[0m\u001b[0;34m)\u001b[0m  \u001b[0;31m# update weights\u001b[0m\u001b[0;34m\u001b[0m\u001b[0;34m\u001b[0m\u001b[0m\n\u001b[1;32m     66\u001b[0m \u001b[0;34m\u001b[0m\u001b[0m\n",
      "\u001b[0;32m~/venv37/lib/python3.7/site-packages/torch/nn/utils/clip_grad.py\u001b[0m in \u001b[0;36mclip_grad_norm\u001b[0;34m(parameters, max_norm, norm_type, error_if_nonfinite)\u001b[0m\n\u001b[1;32m     68\u001b[0m     warnings.warn(\"torch.nn.utils.clip_grad_norm is now deprecated in favor \"\n\u001b[1;32m     69\u001b[0m                   \"of torch.nn.utils.clip_grad_norm_.\", stacklevel=2)\n\u001b[0;32m---> 70\u001b[0;31m     \u001b[0;32mreturn\u001b[0m \u001b[0mclip_grad_norm_\u001b[0m\u001b[0;34m(\u001b[0m\u001b[0mparameters\u001b[0m\u001b[0;34m,\u001b[0m \u001b[0mmax_norm\u001b[0m\u001b[0;34m,\u001b[0m \u001b[0mnorm_type\u001b[0m\u001b[0;34m,\u001b[0m \u001b[0merror_if_nonfinite\u001b[0m\u001b[0;34m)\u001b[0m\u001b[0;34m\u001b[0m\u001b[0;34m\u001b[0m\u001b[0m\n\u001b[0m\u001b[1;32m     71\u001b[0m \u001b[0;34m\u001b[0m\u001b[0m\n\u001b[1;32m     72\u001b[0m \u001b[0;34m\u001b[0m\u001b[0m\n",
      "\u001b[0;32m~/venv37/lib/python3.7/site-packages/torch/nn/utils/clip_grad.py\u001b[0m in \u001b[0;36mclip_grad_norm_\u001b[0;34m(parameters, max_norm, norm_type, error_if_nonfinite)\u001b[0m\n\u001b[1;32m     40\u001b[0m         \u001b[0mtotal_norm\u001b[0m \u001b[0;34m=\u001b[0m \u001b[0mnorms\u001b[0m\u001b[0;34m[\u001b[0m\u001b[0;36m0\u001b[0m\u001b[0;34m]\u001b[0m \u001b[0;32mif\u001b[0m \u001b[0mlen\u001b[0m\u001b[0;34m(\u001b[0m\u001b[0mnorms\u001b[0m\u001b[0;34m)\u001b[0m \u001b[0;34m==\u001b[0m \u001b[0;36m1\u001b[0m \u001b[0;32melse\u001b[0m \u001b[0mtorch\u001b[0m\u001b[0;34m.\u001b[0m\u001b[0mmax\u001b[0m\u001b[0;34m(\u001b[0m\u001b[0mtorch\u001b[0m\u001b[0;34m.\u001b[0m\u001b[0mstack\u001b[0m\u001b[0;34m(\u001b[0m\u001b[0mnorms\u001b[0m\u001b[0;34m)\u001b[0m\u001b[0;34m)\u001b[0m\u001b[0;34m\u001b[0m\u001b[0;34m\u001b[0m\u001b[0m\n\u001b[1;32m     41\u001b[0m     \u001b[0;32melse\u001b[0m\u001b[0;34m:\u001b[0m\u001b[0;34m\u001b[0m\u001b[0;34m\u001b[0m\u001b[0m\n\u001b[0;32m---> 42\u001b[0;31m         \u001b[0mtotal_norm\u001b[0m \u001b[0;34m=\u001b[0m \u001b[0mtorch\u001b[0m\u001b[0;34m.\u001b[0m\u001b[0mnorm\u001b[0m\u001b[0;34m(\u001b[0m\u001b[0mtorch\u001b[0m\u001b[0;34m.\u001b[0m\u001b[0mstack\u001b[0m\u001b[0;34m(\u001b[0m\u001b[0;34m[\u001b[0m\u001b[0mtorch\u001b[0m\u001b[0;34m.\u001b[0m\u001b[0mnorm\u001b[0m\u001b[0;34m(\u001b[0m\u001b[0mp\u001b[0m\u001b[0;34m.\u001b[0m\u001b[0mgrad\u001b[0m\u001b[0;34m.\u001b[0m\u001b[0mdetach\u001b[0m\u001b[0;34m(\u001b[0m\u001b[0;34m)\u001b[0m\u001b[0;34m,\u001b[0m \u001b[0mnorm_type\u001b[0m\u001b[0;34m)\u001b[0m\u001b[0;34m.\u001b[0m\u001b[0mto\u001b[0m\u001b[0;34m(\u001b[0m\u001b[0mdevice\u001b[0m\u001b[0;34m)\u001b[0m \u001b[0;32mfor\u001b[0m \u001b[0mp\u001b[0m \u001b[0;32min\u001b[0m \u001b[0mparameters\u001b[0m\u001b[0;34m]\u001b[0m\u001b[0;34m)\u001b[0m\u001b[0;34m,\u001b[0m \u001b[0mnorm_type\u001b[0m\u001b[0;34m)\u001b[0m\u001b[0;34m\u001b[0m\u001b[0;34m\u001b[0m\u001b[0m\n\u001b[0m\u001b[1;32m     43\u001b[0m     \u001b[0;32mif\u001b[0m \u001b[0merror_if_nonfinite\u001b[0m \u001b[0;32mand\u001b[0m \u001b[0mtorch\u001b[0m\u001b[0;34m.\u001b[0m\u001b[0mlogical_or\u001b[0m\u001b[0;34m(\u001b[0m\u001b[0mtotal_norm\u001b[0m\u001b[0;34m.\u001b[0m\u001b[0misnan\u001b[0m\u001b[0;34m(\u001b[0m\u001b[0;34m)\u001b[0m\u001b[0;34m,\u001b[0m \u001b[0mtotal_norm\u001b[0m\u001b[0;34m.\u001b[0m\u001b[0misinf\u001b[0m\u001b[0;34m(\u001b[0m\u001b[0;34m)\u001b[0m\u001b[0;34m)\u001b[0m\u001b[0;34m:\u001b[0m\u001b[0;34m\u001b[0m\u001b[0;34m\u001b[0m\u001b[0m\n\u001b[1;32m     44\u001b[0m         raise RuntimeError(\n",
      "\u001b[0;32m~/venv37/lib/python3.7/site-packages/torch/nn/utils/clip_grad.py\u001b[0m in \u001b[0;36m<listcomp>\u001b[0;34m(.0)\u001b[0m\n\u001b[1;32m     40\u001b[0m         \u001b[0mtotal_norm\u001b[0m \u001b[0;34m=\u001b[0m \u001b[0mnorms\u001b[0m\u001b[0;34m[\u001b[0m\u001b[0;36m0\u001b[0m\u001b[0;34m]\u001b[0m \u001b[0;32mif\u001b[0m \u001b[0mlen\u001b[0m\u001b[0;34m(\u001b[0m\u001b[0mnorms\u001b[0m\u001b[0;34m)\u001b[0m \u001b[0;34m==\u001b[0m \u001b[0;36m1\u001b[0m \u001b[0;32melse\u001b[0m \u001b[0mtorch\u001b[0m\u001b[0;34m.\u001b[0m\u001b[0mmax\u001b[0m\u001b[0;34m(\u001b[0m\u001b[0mtorch\u001b[0m\u001b[0;34m.\u001b[0m\u001b[0mstack\u001b[0m\u001b[0;34m(\u001b[0m\u001b[0mnorms\u001b[0m\u001b[0;34m)\u001b[0m\u001b[0;34m)\u001b[0m\u001b[0;34m\u001b[0m\u001b[0;34m\u001b[0m\u001b[0m\n\u001b[1;32m     41\u001b[0m     \u001b[0;32melse\u001b[0m\u001b[0;34m:\u001b[0m\u001b[0;34m\u001b[0m\u001b[0;34m\u001b[0m\u001b[0m\n\u001b[0;32m---> 42\u001b[0;31m         \u001b[0mtotal_norm\u001b[0m \u001b[0;34m=\u001b[0m \u001b[0mtorch\u001b[0m\u001b[0;34m.\u001b[0m\u001b[0mnorm\u001b[0m\u001b[0;34m(\u001b[0m\u001b[0mtorch\u001b[0m\u001b[0;34m.\u001b[0m\u001b[0mstack\u001b[0m\u001b[0;34m(\u001b[0m\u001b[0;34m[\u001b[0m\u001b[0mtorch\u001b[0m\u001b[0;34m.\u001b[0m\u001b[0mnorm\u001b[0m\u001b[0;34m(\u001b[0m\u001b[0mp\u001b[0m\u001b[0;34m.\u001b[0m\u001b[0mgrad\u001b[0m\u001b[0;34m.\u001b[0m\u001b[0mdetach\u001b[0m\u001b[0;34m(\u001b[0m\u001b[0;34m)\u001b[0m\u001b[0;34m,\u001b[0m \u001b[0mnorm_type\u001b[0m\u001b[0;34m)\u001b[0m\u001b[0;34m.\u001b[0m\u001b[0mto\u001b[0m\u001b[0;34m(\u001b[0m\u001b[0mdevice\u001b[0m\u001b[0;34m)\u001b[0m \u001b[0;32mfor\u001b[0m \u001b[0mp\u001b[0m \u001b[0;32min\u001b[0m \u001b[0mparameters\u001b[0m\u001b[0;34m]\u001b[0m\u001b[0;34m)\u001b[0m\u001b[0;34m,\u001b[0m \u001b[0mnorm_type\u001b[0m\u001b[0;34m)\u001b[0m\u001b[0;34m\u001b[0m\u001b[0;34m\u001b[0m\u001b[0m\n\u001b[0m\u001b[1;32m     43\u001b[0m     \u001b[0;32mif\u001b[0m \u001b[0merror_if_nonfinite\u001b[0m \u001b[0;32mand\u001b[0m \u001b[0mtorch\u001b[0m\u001b[0;34m.\u001b[0m\u001b[0mlogical_or\u001b[0m\u001b[0;34m(\u001b[0m\u001b[0mtotal_norm\u001b[0m\u001b[0;34m.\u001b[0m\u001b[0misnan\u001b[0m\u001b[0;34m(\u001b[0m\u001b[0;34m)\u001b[0m\u001b[0;34m,\u001b[0m \u001b[0mtotal_norm\u001b[0m\u001b[0;34m.\u001b[0m\u001b[0misinf\u001b[0m\u001b[0;34m(\u001b[0m\u001b[0;34m)\u001b[0m\u001b[0;34m)\u001b[0m\u001b[0;34m:\u001b[0m\u001b[0;34m\u001b[0m\u001b[0;34m\u001b[0m\u001b[0m\n\u001b[1;32m     44\u001b[0m         raise RuntimeError(\n",
      "\u001b[0;32m~/venv37/lib/python3.7/site-packages/torch/functional.py\u001b[0m in \u001b[0;36mnorm\u001b[0;34m(input, p, dim, keepdim, out, dtype)\u001b[0m\n\u001b[1;32m   1544\u001b[0m     \u001b[0;32melse\u001b[0m\u001b[0;34m:\u001b[0m\u001b[0;34m\u001b[0m\u001b[0;34m\u001b[0m\u001b[0m\n\u001b[1;32m   1545\u001b[0m         \u001b[0;32mreturn\u001b[0m \u001b[0m_VF\u001b[0m\u001b[0;34m.\u001b[0m\u001b[0mchain_matmul\u001b[0m\u001b[0;34m(\u001b[0m\u001b[0mmatrices\u001b[0m\u001b[0;34m,\u001b[0m \u001b[0mout\u001b[0m\u001b[0;34m=\u001b[0m\u001b[0mout\u001b[0m\u001b[0;34m)\u001b[0m  \u001b[0;31m# type: ignore[attr-defined]\u001b[0m\u001b[0;34m\u001b[0m\u001b[0;34m\u001b[0m\u001b[0m\n\u001b[0;32m-> 1546\u001b[0;31m \u001b[0;34m\u001b[0m\u001b[0m\n\u001b[0m\u001b[1;32m   1547\u001b[0m \u001b[0;34m\u001b[0m\u001b[0m\n\u001b[1;32m   1548\u001b[0m \u001b[0;32mdef\u001b[0m \u001b[0m_lu_impl\u001b[0m\u001b[0;34m(\u001b[0m\u001b[0mA\u001b[0m\u001b[0;34m,\u001b[0m \u001b[0mpivot\u001b[0m\u001b[0;34m=\u001b[0m\u001b[0;32mTrue\u001b[0m\u001b[0;34m,\u001b[0m \u001b[0mget_infos\u001b[0m\u001b[0;34m=\u001b[0m\u001b[0;32mFalse\u001b[0m\u001b[0;34m,\u001b[0m \u001b[0mout\u001b[0m\u001b[0;34m=\u001b[0m\u001b[0;32mNone\u001b[0m\u001b[0;34m)\u001b[0m\u001b[0;34m:\u001b[0m\u001b[0;34m\u001b[0m\u001b[0;34m\u001b[0m\u001b[0m\n",
      "\u001b[0;31mKeyboardInterrupt\u001b[0m: "
     ]
    }
   ],
   "source": [
    "device = 'cuda'\n",
    "for i in ae:\n",
    "    i.to(device)\n",
    "\n",
    "max_epochs = 20\n",
    "optim = torch.optim.AdamW\n",
    "loss, val_loss = train(ae, optim, 0.0001, nn.MSELoss(reduce = None), nn.CrossEntropyLoss(reduce=None), max_epochs, train_loader, test_loader)"
   ]
  },
  {
   "cell_type": "code",
   "execution_count": 647,
   "id": "eed6e113",
   "metadata": {},
   "outputs": [],
   "source": [
    "def feach(ae,loader):\n",
    "    with torch.no_grad():\n",
    "        res = []\n",
    "        en = []\n",
    "        s = []\n",
    "        m = []\n",
    "        for dist_batch, symb_batch,num_batch, energy_batch,so_batch in loader:\n",
    "                dist = dist_batch.view([dist_batch.shape[0]*dist_batch.shape[1], 31]).to(device)\n",
    "                symb = symb_batch.view([symb_batch.shape[0]*symb_batch.shape[1], 9]).to(device)\n",
    "                num = [list(num_batch.numpy())]*31\n",
    "                num = torch.tensor(np.concatenate(num)).to(device)\n",
    "                so = so_batch.to(device)\n",
    "                #energy = energy_batch.to(device)\n",
    "\n",
    "                # set parameter gradients to zero\n",
    "                s_cod = ae[0](symb)\n",
    "                d_cod = ae[1](dist)\n",
    "                n_cod = ae[2](num)\n",
    "\n",
    "                #print(s_cod.shape)\n",
    "                #print(d_cod.shape)\n",
    "                vec = torch.concat([s_cod, d_cod, n_cod], axis = 1)\n",
    "                #print(vec.shape)\n",
    "\n",
    "                cod = ae[3](vec)\n",
    "                mean = torch.mean(cod.view(dist_batch.shape[0], 31, cod.shape[-1]), axis = 1)\n",
    "                conc = torch.concat([mean, so], axis = 1)\n",
    "                \n",
    "                pred = ae[8](conc).detach().to('cpu').numpy()\n",
    "                #cod = cod.view([int(dist_batch.shape[0]), 31, 64]).to('cpu').numpy()\n",
    "                res.append(pred)\n",
    "                s.append(so_batch)\n",
    "                m.append(mean.detach().to('cpu').numpy())\n",
    "                \n",
    "                en.append(energy_batch)\n",
    "        return np.concatenate(res), np.concatenate(en), np.concatenate(s), np.concatenate(m)\n",
    "            "
   ]
  },
  {
   "cell_type": "code",
   "execution_count": 652,
   "id": "72d3a20e",
   "metadata": {},
   "outputs": [],
   "source": [
    "pred, y_train, so_train , fe = feach(ae, train_loader)"
   ]
  },
  {
   "cell_type": "code",
   "execution_count": 785,
   "id": "39066b63",
   "metadata": {},
   "outputs": [],
   "source": [
    "X = np.concatenate([fe, so_train], axis = 1)"
   ]
  },
  {
   "cell_type": "code",
   "execution_count": 786,
   "id": "86d5c6a3",
   "metadata": {},
   "outputs": [
    {
     "data": {
      "text/plain": [
       "(150174, 72)"
      ]
     },
     "execution_count": 786,
     "metadata": {},
     "output_type": "execute_result"
    }
   ],
   "source": [
    "X.shape"
   ]
  },
  {
   "cell_type": "code",
   "execution_count": 490,
   "id": "e3a739ee",
   "metadata": {},
   "outputs": [],
   "source": [
    "X_train = feach_train.reshape(X_train.shape[0],31*32)"
   ]
  },
  {
   "cell_type": "code",
   "execution_count": 500,
   "id": "3d44403c",
   "metadata": {},
   "outputs": [],
   "source": [
    "X_train = X_train.mean(axis = 1)"
   ]
  },
  {
   "cell_type": "code",
   "execution_count": 383,
   "id": "e3341ac7",
   "metadata": {},
   "outputs": [],
   "source": [
    "# Предикты для финальной линенйой модели"
   ]
  },
  {
   "cell_type": "code",
   "execution_count": 373,
   "id": "c171b3f8",
   "metadata": {},
   "outputs": [],
   "source": [
    "#mean_train = np.array(mean_train).reshape(-1,1)\n",
    "#max_train = np.array(max_train).reshape(-1,1)\n",
    "#var_train = np.array(var_train).reshape(-1,1)\n",
    "#X = np.concatenate([so_train, min_train, max_train, mean_train,var_train], axis = 1)\n",
    "#scaler = StandardScaler().fit(X)\n",
    "#X = scaler.transform(X)\n",
    "\n",
    "var_test = np.array(var_test).reshape(-1,1)\n",
    "mean_test = np.array(mean_test).reshape(-1,1)\n",
    "max_test = np.array(max_test).reshape(-1,1)\n",
    "X_test = np.concatenate([so, l_min, l_max, l_mean,l_var, no], axis = 1)\n",
    "X_test = scaler.transform(X_test)"
   ]
  },
  {
   "cell_type": "code",
   "execution_count": 281,
   "id": "427dc00a",
   "metadata": {},
   "outputs": [
    {
     "data": {
      "text/plain": [
       "array([[ 4.5006103 , -3.13930108, -0.59744505, ..., -0.93198214,\n",
       "        -0.59744505,  4.5006103 ],\n",
       "       [-0.48496543, -1.87584037, -0.59744505, ..., -0.93198214,\n",
       "        -0.59744505, -0.48496543],\n",
       "       [-0.48496543, -1.87584037, -0.59744505, ..., -0.93198214,\n",
       "        -0.59744505, -0.48496543],\n",
       "       ...,\n",
       "       [-0.48496543, -1.24411001, -0.59744505, ...,  1.84121951,\n",
       "        -0.59744505, -0.48496543],\n",
       "       [-0.48496543, -1.24411001, -0.59744505, ...,  1.84121951,\n",
       "        -0.59744505, -0.48496543],\n",
       "       [-0.48496543, -1.24411001, -0.59744505, ...,  1.84121951,\n",
       "        -0.59744505, -0.48496543]])"
      ]
     },
     "execution_count": 281,
     "metadata": {},
     "output_type": "execute_result"
    }
   ],
   "source": [
    "scaler.transform(X_test)"
   ]
  },
  {
   "cell_type": "code",
   "execution_count": 374,
   "id": "0961e82f",
   "metadata": {},
   "outputs": [],
   "source": [
    "regr = torch.load('regr')\n",
    "regr1 = torch.load('regr1')\n",
    "regr2 = torch.load('regr2')\n",
    "regr3 = torch.load('regr3')\n",
    "scaler = torch.load('scaler')\n",
    "enc = torch.load('enc')\n",
    "cl = torch.load('cl')"
   ]
  },
  {
   "cell_type": "code",
   "execution_count": 375,
   "id": "a9c7c81a",
   "metadata": {},
   "outputs": [],
   "source": [
    "cl_ans = cl.predict(X_test)\n",
    "cl_prob  = cl.predict_proba(X_test)\n",
    "\n",
    "df = pd.DataFrame()\n",
    "df['labels'] = cl_ans\n",
    "df['prob'] = np.max(cl_prob,axis = 1)\n",
    "df['id'] = np.arange(len(cl_ans))\n",
    "df['dat'] = list(X_test)"
   ]
  },
  {
   "cell_type": "code",
   "execution_count": 363,
   "id": "501abc92",
   "metadata": {},
   "outputs": [],
   "source": [
    "low = df[df['prob']<0.9993]"
   ]
  },
  {
   "cell_type": "code",
   "execution_count": 364,
   "id": "278a8da1",
   "metadata": {},
   "outputs": [
    {
     "data": {
      "text/html": [
       "<div>\n",
       "<style scoped>\n",
       "    .dataframe tbody tr th:only-of-type {\n",
       "        vertical-align: middle;\n",
       "    }\n",
       "\n",
       "    .dataframe tbody tr th {\n",
       "        vertical-align: top;\n",
       "    }\n",
       "\n",
       "    .dataframe thead th {\n",
       "        text-align: right;\n",
       "    }\n",
       "</style>\n",
       "<table border=\"1\" class=\"dataframe\">\n",
       "  <thead>\n",
       "    <tr style=\"text-align: right;\">\n",
       "      <th></th>\n",
       "      <th>labels</th>\n",
       "      <th>prob</th>\n",
       "      <th>id</th>\n",
       "      <th>dat</th>\n",
       "    </tr>\n",
       "  </thead>\n",
       "  <tbody>\n",
       "  </tbody>\n",
       "</table>\n",
       "</div>"
      ],
      "text/plain": [
       "Empty DataFrame\n",
       "Columns: [labels, prob, id, dat]\n",
       "Index: []"
      ]
     },
     "execution_count": 364,
     "metadata": {},
     "output_type": "execute_result"
    }
   ],
   "source": [
    "low"
   ]
  },
  {
   "cell_type": "code",
   "execution_count": 365,
   "id": "3371d635",
   "metadata": {},
   "outputs": [],
   "source": [
    "df = df[~df['id'].isin(low['id'])]"
   ]
  },
  {
   "cell_type": "code",
   "execution_count": 376,
   "id": "15d72fa0",
   "metadata": {},
   "outputs": [],
   "source": [
    "dat1 = df[df['labels'] == 1]\n",
    "dat2 = df[df['labels'] == 2]\n",
    "dat3 = df[df['labels'] == 3]"
   ]
  },
  {
   "cell_type": "code",
   "execution_count": 377,
   "id": "5688e268",
   "metadata": {},
   "outputs": [
    {
     "name": "stderr",
     "output_type": "stream",
     "text": [
      "/home/legchenko/venv37/lib/python3.7/site-packages/ipykernel_launcher.py:11: SettingWithCopyWarning: \n",
      "A value is trying to be set on a copy of a slice from a DataFrame.\n",
      "Try using .loc[row_indexer,col_indexer] = value instead\n",
      "\n",
      "See the caveats in the documentation: https://pandas.pydata.org/pandas-docs/stable/user_guide/indexing.html#returning-a-view-versus-a-copy\n",
      "  # This is added back by InteractiveShellApp.init_path()\n",
      "/home/legchenko/venv37/lib/python3.7/site-packages/ipykernel_launcher.py:12: SettingWithCopyWarning: \n",
      "A value is trying to be set on a copy of a slice from a DataFrame.\n",
      "Try using .loc[row_indexer,col_indexer] = value instead\n",
      "\n",
      "See the caveats in the documentation: https://pandas.pydata.org/pandas-docs/stable/user_guide/indexing.html#returning-a-view-versus-a-copy\n",
      "  if sys.path[0] == \"\":\n",
      "/home/legchenko/venv37/lib/python3.7/site-packages/ipykernel_launcher.py:13: SettingWithCopyWarning: \n",
      "A value is trying to be set on a copy of a slice from a DataFrame.\n",
      "Try using .loc[row_indexer,col_indexer] = value instead\n",
      "\n",
      "See the caveats in the documentation: https://pandas.pydata.org/pandas-docs/stable/user_guide/indexing.html#returning-a-view-versus-a-copy\n",
      "  del sys.path[0]\n"
     ]
    }
   ],
   "source": [
    "x1 = np.stack(dat1['dat'].values)\n",
    "x2 = np.stack(dat2['dat'].values)\n",
    "x3 = np.stack(dat3['dat'].values)\n",
    "#x = np.stack(low['dat'].values)\n",
    "\n",
    "ans1 = regr1.predict(x1)\n",
    "ans2 = regr2.predict(x2)\n",
    "ans3 = regr3.predict(x3)\n",
    "#ans = regr.predict(x)\n",
    "\n",
    "dat1['ans'] = ans1\n",
    "dat2['ans'] = ans2\n",
    "dat3['ans'] = ans3\n",
    "#low['ans'] = ans"
   ]
  },
  {
   "cell_type": "code",
   "execution_count": 378,
   "id": "98c0bfa0",
   "metadata": {},
   "outputs": [],
   "source": [
    "res = pd.concat([dat1, dat2,dat3])"
   ]
  },
  {
   "cell_type": "code",
   "execution_count": 379,
   "id": "d3061602",
   "metadata": {},
   "outputs": [],
   "source": [
    "res = res.sort_values(by = 'id')"
   ]
  },
  {
   "cell_type": "code",
   "execution_count": 380,
   "id": "f2e64696",
   "metadata": {},
   "outputs": [],
   "source": [
    "b = pd.DataFrame()\n",
    "a = res['ans'].values\n",
    "b['id'] = np.arange(1,len(a)+1)\n",
    "b['energy'] = a"
   ]
  },
  {
   "cell_type": "code",
   "execution_count": 381,
   "id": "3c437858",
   "metadata": {},
   "outputs": [],
   "source": [
    "b.to_csv('ans8.csv',index = False)"
   ]
  },
  {
   "cell_type": "code",
   "execution_count": 382,
   "id": "289009a3",
   "metadata": {},
   "outputs": [
    {
     "data": {
      "text/html": [
       "<div>\n",
       "<style scoped>\n",
       "    .dataframe tbody tr th:only-of-type {\n",
       "        vertical-align: middle;\n",
       "    }\n",
       "\n",
       "    .dataframe tbody tr th {\n",
       "        vertical-align: top;\n",
       "    }\n",
       "\n",
       "    .dataframe thead th {\n",
       "        text-align: right;\n",
       "    }\n",
       "</style>\n",
       "<table border=\"1\" class=\"dataframe\">\n",
       "  <thead>\n",
       "    <tr style=\"text-align: right;\">\n",
       "      <th></th>\n",
       "      <th>id</th>\n",
       "      <th>energy</th>\n",
       "    </tr>\n",
       "  </thead>\n",
       "  <tbody>\n",
       "    <tr>\n",
       "      <th>0</th>\n",
       "      <td>1</td>\n",
       "      <td>-5622.198644</td>\n",
       "    </tr>\n",
       "    <tr>\n",
       "      <th>1</th>\n",
       "      <td>2</td>\n",
       "      <td>-924.341189</td>\n",
       "    </tr>\n",
       "    <tr>\n",
       "      <th>2</th>\n",
       "      <td>3</td>\n",
       "      <td>-924.337820</td>\n",
       "    </tr>\n",
       "    <tr>\n",
       "      <th>3</th>\n",
       "      <td>4</td>\n",
       "      <td>-924.329543</td>\n",
       "    </tr>\n",
       "    <tr>\n",
       "      <th>4</th>\n",
       "      <td>5</td>\n",
       "      <td>-1524.790423</td>\n",
       "    </tr>\n",
       "    <tr>\n",
       "      <th>...</th>\n",
       "      <td>...</td>\n",
       "      <td>...</td>\n",
       "    </tr>\n",
       "    <tr>\n",
       "      <th>32879</th>\n",
       "      <td>32880</td>\n",
       "      <td>-1422.482426</td>\n",
       "    </tr>\n",
       "    <tr>\n",
       "      <th>32880</th>\n",
       "      <td>32881</td>\n",
       "      <td>-1422.479015</td>\n",
       "    </tr>\n",
       "    <tr>\n",
       "      <th>32881</th>\n",
       "      <td>32882</td>\n",
       "      <td>-1422.484397</td>\n",
       "    </tr>\n",
       "    <tr>\n",
       "      <th>32882</th>\n",
       "      <td>32883</td>\n",
       "      <td>-1422.486147</td>\n",
       "    </tr>\n",
       "    <tr>\n",
       "      <th>32883</th>\n",
       "      <td>32884</td>\n",
       "      <td>-1422.488849</td>\n",
       "    </tr>\n",
       "  </tbody>\n",
       "</table>\n",
       "<p>32884 rows × 2 columns</p>\n",
       "</div>"
      ],
      "text/plain": [
       "          id       energy\n",
       "0          1 -5622.198644\n",
       "1          2  -924.341189\n",
       "2          3  -924.337820\n",
       "3          4  -924.329543\n",
       "4          5 -1524.790423\n",
       "...      ...          ...\n",
       "32879  32880 -1422.482426\n",
       "32880  32881 -1422.479015\n",
       "32881  32882 -1422.484397\n",
       "32882  32883 -1422.486147\n",
       "32883  32884 -1422.488849\n",
       "\n",
       "[32884 rows x 2 columns]"
      ]
     },
     "execution_count": 382,
     "metadata": {},
     "output_type": "execute_result"
    }
   ],
   "source": [
    "b"
   ]
  },
  {
   "cell_type": "code",
   "execution_count": 642,
   "id": "c5892530",
   "metadata": {},
   "outputs": [],
   "source": [
    "pred = pred.reshape(pred.shape[0])"
   ]
  },
  {
   "cell_type": "code",
   "execution_count": 576,
   "id": "b1c85114",
   "metadata": {},
   "outputs": [
    {
     "data": {
      "text/plain": [
       "(200232,)"
      ]
     },
     "execution_count": 576,
     "metadata": {},
     "output_type": "execute_result"
    }
   ],
   "source": [
    "energy.shape"
   ]
  },
  {
   "cell_type": "code",
   "execution_count": 383,
   "id": "c969b26a",
   "metadata": {},
   "outputs": [],
   "source": [
    "feach_test = feach(ae, test_loader)"
   ]
  },
  {
   "cell_type": "code",
   "execution_count": 139,
   "id": "2ce1abd7",
   "metadata": {},
   "outputs": [],
   "source": [
    "ridge_regr = BayesianRidge()"
   ]
  },
  {
   "cell_type": "code",
   "execution_count": 140,
   "id": "d12eb5b1",
   "metadata": {},
   "outputs": [
    {
     "data": {
      "text/plain": [
       "BayesianRidge()"
      ]
     },
     "execution_count": 140,
     "metadata": {},
     "output_type": "execute_result"
    }
   ],
   "source": [
    "ridge_regr.fit(X,energy_train)"
   ]
  },
  {
   "cell_type": "code",
   "execution_count": 141,
   "id": "c8e1477e",
   "metadata": {},
   "outputs": [],
   "source": [
    "pred = ridge_regr.predict(X)"
   ]
  },
  {
   "cell_type": "code",
   "execution_count": 137,
   "id": "dd908905",
   "metadata": {},
   "outputs": [],
   "source": [
    "X = X[energy_train > -6500]"
   ]
  },
  {
   "cell_type": "code",
   "execution_count": 145,
   "id": "6836e1f6",
   "metadata": {},
   "outputs": [
    {
     "data": {
      "text/plain": [
       "1"
      ]
     },
     "execution_count": 145,
     "metadata": {},
     "output_type": "execute_result"
    }
   ],
   "source": [
    "(energy < -7000).sum()"
   ]
  },
  {
   "cell_type": "code",
   "execution_count": 138,
   "id": "cbffeaf3",
   "metadata": {},
   "outputs": [],
   "source": [
    "#X = X[energy_train > -6500]\n",
    "energy_train = energy_train[energy_train > -6500]"
   ]
  },
  {
   "cell_type": "code",
   "execution_count": 142,
   "id": "17a6410b",
   "metadata": {},
   "outputs": [
    {
     "name": "stdout",
     "output_type": "stream",
     "text": [
      "MSE: 58.4074\n",
      "MAE: 0.0902\n",
      "R^2: 0.9999\n"
     ]
    }
   ],
   "source": [
    "print('MSE: %.4f' % mean_squared_error(energy_train, pred))\n",
    "print('MAE: %.4f' % mean_absolute_error(energy_train, pred))\n",
    "print('R^2: %.4f' % r2_score(energy_train, pred))"
   ]
  },
  {
   "cell_type": "code",
   "execution_count": 143,
   "id": "277804ca",
   "metadata": {},
   "outputs": [],
   "source": [
    "pred = ridge_regr.predict(X_test)"
   ]
  },
  {
   "cell_type": "code",
   "execution_count": 144,
   "id": "46305b5f",
   "metadata": {},
   "outputs": [
    {
     "name": "stdout",
     "output_type": "stream",
     "text": [
      "MSE: 0.0087\n",
      "MAE: 0.0652\n",
      "R^2: 1.0000\n"
     ]
    }
   ],
   "source": [
    "print('MSE: %.4f' % mean_squared_error(energy_test, pred))\n",
    "print('MAE: %.4f' % mean_absolute_error(energy_test, pred))\n",
    "print('R^2: %.4f' % r2_score(energy_test, pred))"
   ]
  },
  {
   "cell_type": "code",
   "execution_count": 127,
   "id": "78bd6ac8",
   "metadata": {},
   "outputs": [
    {
     "data": {
      "text/plain": [
       "array([-3272.53343232, -4027.23598453, -3255.58654792, ...,\n",
       "       -3204.71349847, -3230.14221012, -3142.19565703])"
      ]
     },
     "execution_count": 127,
     "metadata": {},
     "output_type": "execute_result"
    }
   ],
   "source": [
    "pred"
   ]
  },
  {
   "cell_type": "code",
   "execution_count": 72,
   "id": "77bd8395",
   "metadata": {},
   "outputs": [],
   "source": [
    "snn = SNNRegressor(minibatch_size = 2056, n_layers = 5,ensemble_size = 4, verbose = True)"
   ]
  },
  {
   "cell_type": "code",
   "execution_count": 798,
   "id": "ef456176",
   "metadata": {},
   "outputs": [
    {
     "data": {
      "text/plain": [
       "32"
      ]
     },
     "execution_count": 798,
     "metadata": {},
     "output_type": "execute_result"
    }
   ],
   "source": [
    "snn.__sizeof__()"
   ]
  },
  {
   "cell_type": "code",
   "execution_count": 789,
   "id": "d2204f15",
   "metadata": {},
   "outputs": [],
   "source": [
    "embs = torch.load('embs')"
   ]
  },
  {
   "cell_type": "code",
   "execution_count": 74,
   "id": "48e4bed6",
   "metadata": {},
   "outputs": [],
   "source": [
    "X = np.concatenate(emb)"
   ]
  },
  {
   "cell_type": "code",
   "execution_count": 75,
   "id": "7e8baae2",
   "metadata": {
    "scrolled": false
   },
   "outputs": [
    {
     "ename": "ValueError",
     "evalue": "Found input variables with inconsistent numbers of samples: [40000, 32884]",
     "output_type": "error",
     "traceback": [
      "\u001b[0;31m---------------------------------------------------------------------------\u001b[0m",
      "\u001b[0;31mValueError\u001b[0m                                Traceback (most recent call last)",
      "\u001b[0;32m/tmp/ipykernel_12780/2477512547.py\u001b[0m in \u001b[0;36m<module>\u001b[0;34m\u001b[0m\n\u001b[0;32m----> 1\u001b[0;31m \u001b[0msnn\u001b[0m\u001b[0;34m.\u001b[0m\u001b[0mfit\u001b[0m\u001b[0;34m(\u001b[0m\u001b[0mX\u001b[0m\u001b[0;34m,\u001b[0m \u001b[0menergy\u001b[0m\u001b[0;34m[\u001b[0m\u001b[0;34m:\u001b[0m\u001b[0;36m40000\u001b[0m\u001b[0;34m]\u001b[0m \u001b[0;34m)\u001b[0m\u001b[0;34m\u001b[0m\u001b[0;34m\u001b[0m\u001b[0m\n\u001b[0m",
      "\u001b[0;32m/tmp/ipykernel_12780/2704099743.py\u001b[0m in \u001b[0;36mfit\u001b[0;34m(self, X, y, **kwargs)\u001b[0m\n\u001b[1;32m    225\u001b[0m                            \u001b[0mensure_min_samples\u001b[0m\u001b[0;34m=\u001b[0m\u001b[0mmax\u001b[0m\u001b[0;34m(\u001b[0m\u001b[0mself\u001b[0m\u001b[0;34m.\u001b[0m\u001b[0mensemble_size\u001b[0m \u001b[0;34m*\u001b[0m \u001b[0;36m3\u001b[0m\u001b[0;34m,\u001b[0m \u001b[0;36m100\u001b[0m\u001b[0;34m)\u001b[0m\u001b[0;34m,\u001b[0m\u001b[0;34m\u001b[0m\u001b[0;34m\u001b[0m\u001b[0m\n\u001b[1;32m    226\u001b[0m                            \u001b[0mmulti_output\u001b[0m\u001b[0;34m=\u001b[0m\u001b[0;32mFalse\u001b[0m\u001b[0;34m,\u001b[0m \u001b[0my_numeric\u001b[0m\u001b[0;34m=\u001b[0m\u001b[0;32mTrue\u001b[0m\u001b[0;34m,\u001b[0m\u001b[0;34m\u001b[0m\u001b[0;34m\u001b[0m\u001b[0m\n\u001b[0;32m--> 227\u001b[0;31m                            estimator='SNNRegressor')\n\u001b[0m\u001b[1;32m    228\u001b[0m         \u001b[0;32mif\u001b[0m \u001b[0;34m'feature_names'\u001b[0m \u001b[0;32min\u001b[0m \u001b[0mkwargs\u001b[0m\u001b[0;34m:\u001b[0m\u001b[0;34m\u001b[0m\u001b[0;34m\u001b[0m\u001b[0m\n\u001b[1;32m    229\u001b[0m             \u001b[0mfeature_names\u001b[0m \u001b[0;34m=\u001b[0m \u001b[0mkwargs\u001b[0m\u001b[0;34m[\u001b[0m\u001b[0;34m'feature_names'\u001b[0m\u001b[0;34m]\u001b[0m\u001b[0;34m\u001b[0m\u001b[0;34m\u001b[0m\u001b[0m\n",
      "\u001b[0;32m~/venv37/lib/python3.7/site-packages/sklearn/utils/validation.py\u001b[0m in \u001b[0;36mcheck_X_y\u001b[0;34m(X, y, accept_sparse, accept_large_sparse, dtype, order, copy, force_all_finite, ensure_2d, allow_nd, multi_output, ensure_min_samples, ensure_min_features, y_numeric, estimator)\u001b[0m\n\u001b[1;32m    979\u001b[0m     \u001b[0my\u001b[0m \u001b[0;34m=\u001b[0m \u001b[0m_check_y\u001b[0m\u001b[0;34m(\u001b[0m\u001b[0my\u001b[0m\u001b[0;34m,\u001b[0m \u001b[0mmulti_output\u001b[0m\u001b[0;34m=\u001b[0m\u001b[0mmulti_output\u001b[0m\u001b[0;34m,\u001b[0m \u001b[0my_numeric\u001b[0m\u001b[0;34m=\u001b[0m\u001b[0my_numeric\u001b[0m\u001b[0;34m)\u001b[0m\u001b[0;34m\u001b[0m\u001b[0;34m\u001b[0m\u001b[0m\n\u001b[1;32m    980\u001b[0m \u001b[0;34m\u001b[0m\u001b[0m\n\u001b[0;32m--> 981\u001b[0;31m     \u001b[0mcheck_consistent_length\u001b[0m\u001b[0;34m(\u001b[0m\u001b[0mX\u001b[0m\u001b[0;34m,\u001b[0m \u001b[0my\u001b[0m\u001b[0;34m)\u001b[0m\u001b[0;34m\u001b[0m\u001b[0;34m\u001b[0m\u001b[0m\n\u001b[0m\u001b[1;32m    982\u001b[0m \u001b[0;34m\u001b[0m\u001b[0m\n\u001b[1;32m    983\u001b[0m     \u001b[0;32mreturn\u001b[0m \u001b[0mX\u001b[0m\u001b[0;34m,\u001b[0m \u001b[0my\u001b[0m\u001b[0;34m\u001b[0m\u001b[0;34m\u001b[0m\u001b[0m\n",
      "\u001b[0;32m~/venv37/lib/python3.7/site-packages/sklearn/utils/validation.py\u001b[0m in \u001b[0;36mcheck_consistent_length\u001b[0;34m(*arrays)\u001b[0m\n\u001b[1;32m    332\u001b[0m         raise ValueError(\n\u001b[1;32m    333\u001b[0m             \u001b[0;34m\"Found input variables with inconsistent numbers of samples: %r\"\u001b[0m\u001b[0;34m\u001b[0m\u001b[0;34m\u001b[0m\u001b[0m\n\u001b[0;32m--> 334\u001b[0;31m             \u001b[0;34m%\u001b[0m \u001b[0;34m[\u001b[0m\u001b[0mint\u001b[0m\u001b[0;34m(\u001b[0m\u001b[0ml\u001b[0m\u001b[0;34m)\u001b[0m \u001b[0;32mfor\u001b[0m \u001b[0ml\u001b[0m \u001b[0;32min\u001b[0m \u001b[0mlengths\u001b[0m\u001b[0;34m]\u001b[0m\u001b[0;34m\u001b[0m\u001b[0;34m\u001b[0m\u001b[0m\n\u001b[0m\u001b[1;32m    335\u001b[0m         )\n\u001b[1;32m    336\u001b[0m \u001b[0;34m\u001b[0m\u001b[0m\n",
      "\u001b[0;31mValueError\u001b[0m: Found input variables with inconsistent numbers of samples: [40000, 32884]"
     ]
    }
   ],
   "source": [
    "snn.fit(X, energy[:40000] )"
   ]
  },
  {
   "cell_type": "code",
   "execution_count": 799,
   "id": "944b4d0d",
   "metadata": {},
   "outputs": [],
   "source": [
    "import copy\n",
    "import gc\n",
    "import random\n",
    "import re\n",
    "from typing import List, Tuple, Union\n",
    "import uuid\n",
    "\n",
    "import numpy as np\n",
    "from sklearn.base import BaseEstimator, RegressorMixin\n",
    "from sklearn.decomposition import PCA\n",
    "from sklearn.feature_selection import VarianceThreshold\n",
    "from sklearn.model_selection import StratifiedKFold\n",
    "from sklearn.pipeline import Pipeline\n",
    "from sklearn.preprocessing import StandardScaler\n",
    "from sklearn.preprocessing import KBinsDiscretizer\n",
    "from sklearn.utils import check_X_y, check_array\n",
    "from sklearn.utils.validation import check_is_fitted\n",
    "import tensorflow as tf\n",
    "import tensorflow_addons as tfa\n",
    "\n",
    "\n",
    "def build_preprocessor(X: np.ndarray, seed: int) -> Pipeline:\n",
    "    preprocessor = Pipeline(steps=[\n",
    "        (\n",
    "            'selector',\n",
    "            VarianceThreshold()\n",
    "        ),\n",
    "        (\n",
    "            'standard_scaler',\n",
    "            StandardScaler(with_mean=True, with_std=True)\n",
    "        ),\n",
    "        (\n",
    "            'pca',\n",
    "            PCA(random_state=seed)\n",
    "        )\n",
    "    ])\n",
    "    preprocessor.fit(X.astype(np.float64))\n",
    "    return preprocessor\n",
    "\n",
    "\n",
    "def build_neural_network(input_size: int, layer_size: int, n_classes: int,\n",
    "                         n_layers: int, dropout_rate: float, scale_coeff: float,\n",
    "                         nn_name: str) -> tf.keras.Model:\n",
    "    feature_vector = tf.keras.layers.Input(\n",
    "        shape=(input_size,), dtype=tf.float32,\n",
    "        name=f'{nn_name}_feature_vector'\n",
    "    )\n",
    "    hidden_layer = tf.keras.layers.AlphaDropout(\n",
    "        rate=dropout_rate,\n",
    "        seed=random.randint(0, 2147483647),\n",
    "        name=f'{nn_name}_dropout1'\n",
    "    )(feature_vector)\n",
    "    for layer_idx in range(1, (2 * n_layers) // 3 + 1):\n",
    "        try:\n",
    "            kernel_initializer = tf.keras.initializers.LecunNormal(\n",
    "                seed=random.randint(0, 2147483647)\n",
    "            )\n",
    "        except:\n",
    "            kernel_initializer = tf.compat.v1.keras.initializers.lecun_normal(\n",
    "                seed=random.randint(0, 2147483647)\n",
    "            )\n",
    "        hidden_layer = tf.keras.layers.Dense(\n",
    "            units=layer_size,\n",
    "            activation='selu',\n",
    "            kernel_initializer=kernel_initializer,\n",
    "            bias_initializer='zeros',\n",
    "            name=f'{nn_name}_dense{layer_idx}'\n",
    "        )(hidden_layer)\n",
    "        hidden_layer = tf.keras.layers.AlphaDropout(\n",
    "            rate=dropout_rate,\n",
    "            seed=random.randint(0, 2147483647),\n",
    "            name=f'{nn_name}_dropout{layer_idx + 1}'\n",
    "        )(hidden_layer)\n",
    "    try:\n",
    "        kernel_initializer = tf.keras.initializers.LecunNormal(\n",
    "            seed=random.randint(0, 2147483647)\n",
    "        )\n",
    "    except:\n",
    "        kernel_initializer = tf.compat.v1.keras.initializers.lecun_normal(\n",
    "            seed=random.randint(0, 2147483647)\n",
    "        )\n",
    "    cls_layer = tf.keras.layers.Dense(\n",
    "        units=n_classes,\n",
    "        activation=None,\n",
    "        use_bias=True,\n",
    "        kernel_initializer=kernel_initializer,\n",
    "        name=f'{nn_name}_classification'\n",
    "    )(hidden_layer)\n",
    "    for layer_idx in range((2 * n_layers) // 3 + 1, n_layers + 1):\n",
    "        try:\n",
    "            kernel_initializer = tf.keras.initializers.LecunNormal(\n",
    "                seed=random.randint(0, 2147483647)\n",
    "            )\n",
    "        except:\n",
    "            kernel_initializer = tf.compat.v1.keras.initializers.lecun_normal(\n",
    "                seed=random.randint(0, 2147483647)\n",
    "            )\n",
    "        hidden_layer = tf.keras.layers.Dense(\n",
    "            units=layer_size,\n",
    "            activation='selu',\n",
    "            kernel_initializer=kernel_initializer,\n",
    "            bias_initializer='zeros',\n",
    "            name=f'{nn_name}_dense{layer_idx}'\n",
    "        )(hidden_layer)\n",
    "        hidden_layer = tf.keras.layers.AlphaDropout(\n",
    "            rate=dropout_rate,\n",
    "            seed=random.randint(0, 2147483647),\n",
    "            name=f'{nn_name}_dropout{layer_idx + 1}'\n",
    "        )(hidden_layer)\n",
    "    try:\n",
    "        kernel_initializer = tf.keras.initializers.LecunNormal(\n",
    "            seed=random.randint(0, 2147483647)\n",
    "        )\n",
    "    except:\n",
    "        kernel_initializer = tf.compat.v1.keras.initializers.lecun_normal(\n",
    "            seed=random.randint(0, 2147483647)\n",
    "        )\n",
    "    output_layer = tf.keras.layers.Dense(\n",
    "        units=1,\n",
    "        activation=None,\n",
    "        use_bias=True,\n",
    "        kernel_initializer=kernel_initializer,\n",
    "        name=f'{nn_name}_regression'\n",
    "    )(hidden_layer)\n",
    "    neural_network = tf.keras.Model(\n",
    "        inputs=feature_vector,\n",
    "        outputs=[output_layer, cls_layer],\n",
    "        name=nn_name\n",
    "    )\n",
    "    radam = tfa.optimizers.RectifiedAdam(learning_rate=1e-3)\n",
    "    ranger = tfa.optimizers.Lookahead(radam, sync_period=6, slow_step_size=0.5)\n",
    "    losses = {\n",
    "        f'{nn_name}_regression': tf.keras.losses.MeanAbsoluteError(),\n",
    "        f'{nn_name}_classification': tf.keras.losses.CategoricalCrossentropy(\n",
    "            label_smoothing=0.01,\n",
    "            from_logits=True\n",
    "        )\n",
    "    }\n",
    "    loss_weights = {\n",
    "        f'{nn_name}_regression': 1.0,\n",
    "        f'{nn_name}_classification': 0.5\n",
    "    }\n",
    "    metrics = {\n",
    "        f'{nn_name}_regression': [\n",
    "            tf.keras.metrics.MeanAbsoluteError()\n",
    "        ]\n",
    "    }\n",
    "    neural_network.compile(\n",
    "        optimizer=ranger,\n",
    "        loss=losses,\n",
    "        loss_weights=loss_weights,\n",
    "        metrics=metrics\n",
    "    )\n",
    "    return neural_network\n",
    "\n",
    "\n",
    "def predict_by_ensemble(input_data: np.ndarray,\n",
    "                        ensemble: List[tf.keras.Model],\n",
    "                        postprocessing: StandardScaler,\n",
    "                        minibatch: int) -> np.ndarray:\n",
    "    num_samples = input_data.shape[0]\n",
    "    ensemble_size = len(ensemble)\n",
    "    predictions_of_ensemble = np.empty((ensemble_size, num_samples),\n",
    "                                       dtype=np.float64)\n",
    "    for model_idx, cur_model in enumerate(ensemble):\n",
    "        y_mean = cur_model.predict(input_data, batch_size=minibatch)[0]\n",
    "        predictions_of_ensemble[model_idx, :] = y_mean.flatten()\n",
    "    y = np.mean(predictions_of_ensemble, axis=0)\n",
    "    y = postprocessing.inverse_transform(y.reshape((y.shape[0], 1))).flatten()\n",
    "    return y\n",
    "\n",
    "\n",
    "def discretize_targets(targets: np.ndarray) -> np.ndarray:\n",
    "    set_of_target_values = set()\n",
    "    for cur in targets:\n",
    "        set_of_target_values.add(int(round(100.0 * cur)))\n",
    "    n_classes = max(3, len(set_of_target_values) // 20)\n",
    "    discretized = KBinsDiscretizer(\n",
    "        n_bins=n_classes,\n",
    "        encode='ordinal',\n",
    "        strategy='kmeans'\n",
    "    ).fit_transform(\n",
    "        targets.reshape((targets.shape[0], 1))\n",
    "    ).reshape((targets.shape[0],)).astype(np.int32)\n",
    "    discretized = discretized.astype(np.int32)\n",
    "    return discretized\n",
    "\n",
    "\n",
    "class SNNRegressor(BaseEstimator, RegressorMixin):\n",
    "    def __init__(self, ensemble_size: int = 20,\n",
    "                 hidden_layer_size: int = 64, n_layers: int = 18,\n",
    "                 dropout_rate: float = 3e-4,\n",
    "                 max_epochs: int = 1000, patience: int = 15,\n",
    "                 minibatch_size: int = 4096, validation_fraction: float = 0.1,\n",
    "                 verbose: bool = False, clear_session: bool = True,\n",
    "                 random_seed: Union[int, None] = None):\n",
    "        super(SNNRegressor, self).__init__()\n",
    "        self.ensemble_size = ensemble_size\n",
    "        self.hidden_layer_size = hidden_layer_size\n",
    "        self.n_layers = n_layers\n",
    "        self.dropout_rate = dropout_rate\n",
    "        self.max_epochs = max_epochs\n",
    "        self.patience = patience\n",
    "        self.minibatch_size = minibatch_size\n",
    "        self.verbose = verbose\n",
    "        self.validation_fraction = validation_fraction\n",
    "        self.clear_session = clear_session\n",
    "        self.random_seed = random_seed\n",
    "\n",
    "    def fit(self, X, y, **kwargs):\n",
    "        self.check_params(\n",
    "            ensemble_size=self.ensemble_size,\n",
    "            hidden_layer_size=self.hidden_layer_size,\n",
    "            n_layers=self.n_layers,\n",
    "            minibatch_size=self.minibatch_size,\n",
    "            dropout_rate=self.dropout_rate,\n",
    "            max_epochs=self.max_epochs,\n",
    "            patience=self.patience,\n",
    "            validation_fraction=self.validation_fraction,\n",
    "            verbose=self.verbose,\n",
    "            clear_session=self.clear_session\n",
    "        )\n",
    "        X_, y_ = check_X_y(X, y,\n",
    "                           force_all_finite='allow-nan',\n",
    "                           ensure_min_samples=max(self.ensemble_size * 3, 100),\n",
    "                           multi_output=False, y_numeric=True,\n",
    "                           estimator='SNNRegressor')\n",
    "        if 'feature_names' in kwargs:\n",
    "            feature_names = kwargs['feature_names']\n",
    "            if (not isinstance(feature_names, list)) and \\\n",
    "                    (not isinstance(feature_names, tuple)):\n",
    "                err_msg = f'`{feature_names}` is wrong! ' \\\n",
    "                          f'Expected `{type([1, 2])}`, ' \\\n",
    "                          f'got `{type(kwargs[\"feature_names\"])}`.'\n",
    "                raise ValueError(err_msg)\n",
    "        else:\n",
    "            max_number_width = len(str(X_.shape[1]))\n",
    "            feature_names = ['x{0:>0{1}}'.format(col_idx, max_number_width)\n",
    "                             for col_idx in range(X_.shape[1])]\n",
    "        if hasattr(self, 'deep_ensemble_'):\n",
    "            del self.deep_ensemble_\n",
    "        if hasattr(self, 'names_of_deep_ensemble_'):\n",
    "            del self.names_of_deep_ensemble_\n",
    "        if hasattr(self, 'preprocessor_'):\n",
    "            del self.preprocessor_\n",
    "        if hasattr(self, 'postprocessor_'):\n",
    "            del self.postprocessor_\n",
    "        if hasattr(self, 'random_gen_'):\n",
    "            del self.random_gen_\n",
    "        gc.collect()\n",
    "        if self.clear_session:\n",
    "            tf.keras.backend.clear_session()\n",
    "        self.random_gen_ = np.random.default_rng(\n",
    "            seed=(self.random_seed if hasattr(self, 'random_seed') else None)\n",
    "        )\n",
    "        self.preprocessor_ = build_preprocessor(\n",
    "            X_, seed=self.random_gen_.integers(0, 2147483647)\n",
    "        )\n",
    "        if self.verbose:\n",
    "            print('')\n",
    "        self.postprocessor_ = StandardScaler(with_mean=True, with_std=True)\n",
    "        self.postprocessor_.fit(y_.reshape((y_.shape[0], 1)))\n",
    "        X_ = self.preprocessor_.transform(\n",
    "            X_.astype(np.float64)\n",
    "        ).astype(np.float32)\n",
    "        y_ = self.postprocessor_.transform(\n",
    "            y_.reshape((y_.shape[0], 1))\n",
    "        ).reshape((y_.shape[0],))\n",
    "        all_indices = np.array(list(range(X_.shape[0])), dtype=np.int32)\n",
    "        self.random_gen_.shuffle(all_indices)\n",
    "        X_ = X_[all_indices]\n",
    "        y_ = y_[all_indices]\n",
    "        del all_indices\n",
    "        gc.collect()\n",
    "        y_class_ = discretize_targets(y_)\n",
    "        self.n_classes_ = int(np.max(y_class_) + 1)\n",
    "        y_class__ = np.zeros((y_class_.shape[0], self.n_classes_),\n",
    "                             dtype=np.float32)\n",
    "        for sample_idx, class_idx in enumerate(y_class_):\n",
    "            y_class__[sample_idx, class_idx] = 1.0\n",
    "        if self.verbose:\n",
    "            class_freq = np.zeros((self.n_classes_,), dtype=np.int32)\n",
    "            for class_idx in y_class_:\n",
    "                class_freq[class_idx] += 1\n",
    "            max_num_width = max(map(lambda it: len(str(it)), class_freq))\n",
    "            for class_idx, freq in enumerate(class_freq):\n",
    "                print('Class {0:>02}: {1:>{2}} samples'.format(class_idx, freq,\n",
    "                                                               max_num_width))\n",
    "            print('')\n",
    "        splitting = []\n",
    "        for _ in range(self.ensemble_size):\n",
    "            instant_splitting = list(StratifiedKFold(\n",
    "                n_splits=int(round(1.0 / self.validation_fraction)),\n",
    "                shuffle=True,\n",
    "                random_state=self.random_gen_.integers(0, 2147483647)\n",
    "            ).split(X_, y_class_))\n",
    "            splitting.append(instant_splitting[0])\n",
    "            del instant_splitting\n",
    "        self.feature_vector_size_ = X_.shape[1]\n",
    "        self.deep_ensemble_ = []\n",
    "        self.names_of_deep_ensemble_ = []\n",
    "        for alg_id in range(self.ensemble_size):\n",
    "            model_uuid = str(uuid.uuid1()).split('-')[0]\n",
    "            model_name = f'snn_regressor_{alg_id + 1}_{model_uuid}'\n",
    "            regression_output_name = f'{model_name}_regression'\n",
    "            self.names_of_deep_ensemble_.append(model_name)\n",
    "            train_index, test_index = splitting[alg_id]\n",
    "            steps_per_epoch = len(train_index) // self.minibatch_size\n",
    "            train_dataset = tf.data.Dataset.from_tensor_slices(\n",
    "                (\n",
    "                    X_[train_index],\n",
    "                    (\n",
    "                        y_[train_index].flatten(),\n",
    "                        y_class__[train_index]\n",
    "                    )\n",
    "                )\n",
    "            ).repeat().shuffle(len(train_index)).batch(self.minibatch_size)\n",
    "            val_dataset = tf.data.Dataset.from_tensor_slices(\n",
    "                (\n",
    "                    X_[test_index],\n",
    "                    (\n",
    "                        y_[test_index].flatten(),\n",
    "                        y_class__[test_index]\n",
    "                    )\n",
    "                )\n",
    "            ).batch(self.minibatch_size)\n",
    "            new_model = build_neural_network(\n",
    "                input_size=self.feature_vector_size_,\n",
    "                layer_size=self.hidden_layer_size,\n",
    "                n_classes=self.n_classes_,\n",
    "                n_layers=self.n_layers,\n",
    "                dropout_rate=self.dropout_rate,\n",
    "                scale_coeff=self.postprocessor_.scale_[0],\n",
    "                nn_name=model_name\n",
    "            )\n",
    "            if self.verbose:\n",
    "                print('====================')\n",
    "                print(f'NEURAL NETWORK {alg_id + 1}')\n",
    "                print('====================')\n",
    "                print('')\n",
    "                new_model.summary()\n",
    "                print('')\n",
    "            callbacks = [\n",
    "                tf.keras.callbacks.EarlyStopping(\n",
    "                    monitor=f'val_{regression_output_name}_mean_absolute_error',\n",
    "                    restore_best_weights=True, mode='min',\n",
    "                    patience=self.patience, verbose=self.verbose\n",
    "                )\n",
    "            ]\n",
    "            new_model.fit(\n",
    "                train_dataset, epochs=self.max_epochs,\n",
    "                steps_per_epoch=steps_per_epoch,\n",
    "                callbacks=callbacks, validation_data=val_dataset,\n",
    "                verbose=(2 if self.verbose else 0)\n",
    "            )\n",
    "            del callbacks, train_dataset, val_dataset, train_index, test_index\n",
    "            self.deep_ensemble_.append(new_model)\n",
    "            del new_model\n",
    "            gc.collect()\n",
    "        return self\n",
    "\n",
    "    def predict(self, X):\n",
    "        check_is_fitted(self, ['deep_ensemble_', 'names_of_deep_ensemble_',\n",
    "                               'preprocessor_', 'postprocessor_',\n",
    "                               'random_gen_', 'feature_vector_size_',\n",
    "                               'n_classes_'])\n",
    "        X_ = check_array(X, force_all_finite='allow-nan',\n",
    "                         estimator='SNNRegressor')\n",
    "        X_ = self.preprocessor_.transform(\n",
    "            X_.astype(np.float64)\n",
    "        ).astype(np.float32)\n",
    "        y = predict_by_ensemble(\n",
    "            input_data=X_,\n",
    "            postprocessing=self.postprocessor_,\n",
    "            ensemble=self.deep_ensemble_,\n",
    "            minibatch=self.minibatch_size\n",
    "        )\n",
    "        return y\n",
    "\n",
    "    def fit_predict(self, X, y, **kwargs):\n",
    "        return self.fit(X, y).predict(X)\n",
    "\n",
    "    def get_params(self, deep=True) -> dict:\n",
    "        return {\n",
    "            'ensemble_size': self.ensemble_size,\n",
    "            'hidden_layer_size': self.hidden_layer_size,\n",
    "            'n_layers': self.n_layers,\n",
    "            'dropout_rate': self.dropout_rate,\n",
    "            'max_epochs': self.max_epochs,\n",
    "            'patience': self.patience,\n",
    "            'minibatch_size': self.minibatch_size,\n",
    "            'verbose': self.verbose,\n",
    "            'validation_fraction': self.validation_fraction,\n",
    "            'clear_session': self.clear_session,\n",
    "            'random_seed': (self.random_seed if hasattr(self, 'random_seed')\n",
    "                            else None)\n",
    "        }\n",
    "\n",
    "    def set_params(self, **params):\n",
    "        for parameter, value in params.items():\n",
    "            self.__setattr__(parameter, value)\n",
    "        return self\n",
    "\n",
    "    def _copy_deep_ensemble(self) -> List[tf.keras.Model]:\n",
    "        new_deep_ensemble = []\n",
    "        re_for_hidden_layer = re.compile(r'_dense\\d+$')\n",
    "        for alg_id in range(self.ensemble_size):\n",
    "            model_uuid = str(uuid.uuid1()).split('-')[0]\n",
    "            model_name = f'snn_regressor_{alg_id + 1}_{model_uuid}'\n",
    "            new_model = build_neural_network(\n",
    "                input_size=self.feature_vector_size_,\n",
    "                layer_size=self.hidden_layer_size,\n",
    "                n_classes=self.n_classes_,\n",
    "                n_layers=self.n_layers,\n",
    "                dropout_rate=self.dropout_rate,\n",
    "                scale_coeff=self.postprocessor_.scale_[0],\n",
    "                nn_name=model_name\n",
    "            )\n",
    "            new_model.build(input_shape=(None, self.feature_vector_size_))\n",
    "            old_model = self.deep_ensemble_[alg_id]\n",
    "            n_copied = 0\n",
    "            for old_layer, new_layer in zip(old_model.layers, new_model.layers):\n",
    "                if old_layer.name.endswith('_classification'):\n",
    "                    copy_weight = True\n",
    "                elif old_layer.name.endswith('_regression'):\n",
    "                    copy_weight = True\n",
    "                else:\n",
    "                    if re_for_hidden_layer.search(old_layer.name) is None:\n",
    "                        copy_weight = False\n",
    "                    else:\n",
    "                        copy_weight = True\n",
    "                if copy_weight:\n",
    "                    n_copied += 1\n",
    "                    new_layer.set_weights(old_layer.get_weights())\n",
    "            if n_copied < 1:\n",
    "                err_msg = f'The neural network {alg_id + 1} cannot be copied!'\n",
    "                raise ValueError(err_msg)\n",
    "            new_deep_ensemble.append(new_model)\n",
    "        return new_deep_ensemble\n",
    "\n",
    "    def __copy__(self):\n",
    "        cls = self.__class__\n",
    "        result = cls.__new__(cls)\n",
    "        result.set_params(\n",
    "            ensemble_size=self.ensemble_size,\n",
    "            hidden_layer_size=self.hidden_layer_size,\n",
    "            n_layers=self.n_layers,\n",
    "            dropout_rate=self.dropout_rate,\n",
    "            max_epochs=self.max_epochs,\n",
    "            patience=self.patience,\n",
    "            minibatch_size=self.minibatch_size,\n",
    "            verbose=self.verbose,\n",
    "            validation_fraction=self.validation_fraction,\n",
    "            clear_session=self.clear_session,\n",
    "            random_seed=self.random_seed\n",
    "        )\n",
    "        try:\n",
    "            check_is_fitted(self, ['deep_ensemble_', 'names_of_deep_ensemble_',\n",
    "                                   'preprocessor_', 'postprocessor_',\n",
    "                                   'random_gen_', 'feature_vector_size_',\n",
    "                                   'n_classes_'])\n",
    "            is_fitted = True\n",
    "        except:\n",
    "            is_fitted = False\n",
    "        if is_fitted:\n",
    "            result.deep_ensemble_ = self.deep_ensemble_\n",
    "            result.names_of_deep_ensemble_ = self.names_of_deep_ensemble_\n",
    "            result.preprocessor_ = self.preprocessor_\n",
    "            result.postprocessor_ = self.postprocessor_\n",
    "            result.random_gen_ = self.random_gen_\n",
    "            result.feature_vector_size_ = self.feature_vector_size_\n",
    "            result.n_classes_ = self.n_classes_\n",
    "        return result\n",
    "\n",
    "    def __deepcopy__(self, memodict={}):\n",
    "        cls = self.__class__\n",
    "        result = cls.__new__(cls)\n",
    "        memodict[id(self)] = result\n",
    "        result.set_params(\n",
    "            ensemble_size=self.ensemble_size,\n",
    "            hidden_layer_size=self.hidden_layer_size,\n",
    "            n_layers=self.n_layers,\n",
    "            dropout_rate=self.dropout_rate,\n",
    "            max_epochs=self.max_epochs,\n",
    "            patience=self.patience,\n",
    "            minibatch_size=self.minibatch_size,\n",
    "            verbose=self.verbose,\n",
    "            validation_fraction=self.validation_fraction,\n",
    "            clear_session=self.clear_session,\n",
    "            random_seed=self.random_seed\n",
    "        )\n",
    "        try:\n",
    "            check_is_fitted(self, ['deep_ensemble_', 'names_of_deep_ensemble_',\n",
    "                                   'preprocessor_', 'postprocessor_',\n",
    "                                   'random_gen_', 'feature_vector_size_',\n",
    "                                   'n_classes_'])\n",
    "            is_fitted = True\n",
    "        except:\n",
    "            is_fitted = False\n",
    "        if is_fitted:\n",
    "            result.feature_vector_size_ = self.feature_vector_size_\n",
    "            result.n_classes_ = self.n_classes_\n",
    "            result.names_of_deep_ensemble_ = copy.deepcopy(\n",
    "                self.names_of_deep_ensemble_,\n",
    "                memo=memodict\n",
    "            )\n",
    "            result.preprocessor_ = copy.deepcopy(self.preprocessor_,\n",
    "                                                 memo=memodict)\n",
    "            result.postprocessor_ = copy.deepcopy(self.postprocessor_,\n",
    "                                                  memo=memodict)\n",
    "            if self.random_gen_ is None:\n",
    "                result.random_gen_ = None\n",
    "            else:\n",
    "                result.random_gen_ = copy.deepcopy(self.random_gen_,\n",
    "                                                   memo=memodict)\n",
    "            result.deep_ensemble_ = self._copy_deep_ensemble()\n",
    "        return result\n",
    "\n",
    "    def __getstate__(self):\n",
    "        params = self.get_params(True)\n",
    "        try:\n",
    "            check_is_fitted(self, ['deep_ensemble_', 'names_of_deep_ensemble_',\n",
    "                                   'preprocessor_', 'postprocessor_',\n",
    "                                   'random_gen_', 'feature_vector_size_',\n",
    "                                   'n_classes_'])\n",
    "            is_fitted = True\n",
    "        except:\n",
    "            is_fitted = False\n",
    "        if is_fitted:\n",
    "            params['names_of_deep_ensemble_'] = copy.deepcopy(\n",
    "                self.names_of_deep_ensemble_\n",
    "            )\n",
    "            params['feature_vector_size_'] = self.feature_vector_size_\n",
    "            params['n_classes_'] = self.n_classes_\n",
    "            params['preprocessor_'] = copy.deepcopy(self.preprocessor_)\n",
    "            params['postprocessor_'] = copy.deepcopy(self.postprocessor_)\n",
    "            if self.random_gen_ is None:\n",
    "                params['random_gen_'] = None\n",
    "            else:\n",
    "                params['random_gen_'] = copy.deepcopy(self.random_gen_)\n",
    "            params['deep_ensemble_'] = []\n",
    "            for alg_id in range(self.ensemble_size):\n",
    "                params['deep_ensemble_'].append(\n",
    "                    self.deep_ensemble_[alg_id].get_weights()\n",
    "                )\n",
    "        return params\n",
    "\n",
    "    def __setstate__(self, state: dict):\n",
    "        if not isinstance(state, dict):\n",
    "            err_msg = f'The `state` is wrong! Expected `{type({\"a\": 1})}`, ' \\\n",
    "                      f'got `{type(state)}`.'\n",
    "            raise ValueError(err_msg)\n",
    "        self.check_params(**state)\n",
    "        is_fitted = ('deep_ensemble_' in state)\n",
    "        if is_fitted:\n",
    "            if 'names_of_deep_ensemble_' not in state:\n",
    "                err_msg = 'The `names_of_deep_ensemble_` is not found ' \\\n",
    "                          'in the `state`!'\n",
    "                raise ValueError(err_msg)\n",
    "            if 'feature_vector_size_' not in state:\n",
    "                err_msg = 'The `feature_vector_size_` is not found ' \\\n",
    "                          'in the `state`!'\n",
    "                raise ValueError(err_msg)\n",
    "            if 'preprocessor_' not in state:\n",
    "                err_msg = 'The `preprocessor_` is not found in the `state`!'\n",
    "                raise ValueError(err_msg)\n",
    "            if 'postprocessor_' not in state:\n",
    "                err_msg = 'The `postprocessor_` is not found in the `state`!'\n",
    "                raise ValueError(err_msg)\n",
    "        self.set_params(**state)\n",
    "        if hasattr(self, 'deep_ensemble_'):\n",
    "            del self.deep_ensemble_\n",
    "        if hasattr(self, 'names_of_deep_ensemble_'):\n",
    "            del self.names_of_deep_ensemble_\n",
    "        if hasattr(self, 'preprocessor_'):\n",
    "            del self.preprocessor_\n",
    "        if hasattr(self, 'postprocessor_'):\n",
    "            del self.postprocessor_\n",
    "        if hasattr(self, 'random_gen_'):\n",
    "            del self.random_gen_\n",
    "        gc.collect()\n",
    "        if self.clear_session:\n",
    "            tf.keras.backend.clear_session()\n",
    "        if is_fitted:\n",
    "            self.feature_vector_size_ = state['feature_vector_size_']\n",
    "            self.n_classes_ = state['n_classes_']\n",
    "            self.names_of_deep_ensemble_ = copy.deepcopy(\n",
    "                state['names_of_deep_ensemble_']\n",
    "            )\n",
    "            self.preprocessor_ = copy.deepcopy(state['preprocessor_'])\n",
    "            self.postprocessor_ = copy.deepcopy(state['postprocessor_'])\n",
    "            if 'random_gen_' in state:\n",
    "                self.random_gen_ = copy.deepcopy(state['random_gen_'])\n",
    "            else:\n",
    "                self.random_gen_ = np.random.default_rng(\n",
    "                    seed=(self.random_seed if hasattr(self, 'random_seed')\n",
    "                          else None)\n",
    "                )\n",
    "            self.deep_ensemble_ = []\n",
    "            for alg_id in range(self.ensemble_size):\n",
    "                model_name = self.names_of_deep_ensemble_[alg_id]\n",
    "                new_model = build_neural_network(\n",
    "                    input_size=self.feature_vector_size_,\n",
    "                    layer_size=self.hidden_layer_size,\n",
    "                    n_classes=self.n_classes_,\n",
    "                    n_layers=self.n_layers,\n",
    "                    dropout_rate=self.dropout_rate,\n",
    "                    scale_coeff=self.postprocessor_.scale_[0],\n",
    "                    nn_name=model_name\n",
    "                )\n",
    "                new_model.build(input_shape=(None, self.feature_vector_size_))\n",
    "                new_model.set_weights(state['deep_ensemble_'][alg_id])\n",
    "                self.deep_ensemble_.append(new_model)\n",
    "        return self\n",
    "\n",
    "    @staticmethod\n",
    "    def check_integer_param(param_name: str, **kwargs):\n",
    "        if param_name not in kwargs:\n",
    "            raise ValueError(f'`{param_name}` is not specified!')\n",
    "        if (not isinstance(kwargs[param_name], int)) and \\\n",
    "                (not isinstance(kwargs[param_name], np.int64)) and \\\n",
    "                (not isinstance(kwargs[param_name], np.uint64)) and \\\n",
    "                (not isinstance(kwargs[param_name], np.int16)) and \\\n",
    "                (not isinstance(kwargs[param_name], np.uint16)) and \\\n",
    "                (not isinstance(kwargs[param_name], np.int8)) and \\\n",
    "                (not isinstance(kwargs[param_name], np.uint8)) and \\\n",
    "                (not isinstance(kwargs[param_name], np.int32)) and \\\n",
    "                (not isinstance(kwargs[param_name], np.uint32)):\n",
    "            err_msg = f'`{param_name}` is wrong! Expected `{type(3)}`, ' \\\n",
    "                      f'got `{type(kwargs[param_name])}`.'\n",
    "            raise ValueError(err_msg)\n",
    "        if kwargs[param_name] < 1:\n",
    "            err_msg = f'`{param_name}` is wrong! Expected a positive ' \\\n",
    "                      f'integer value, but {kwargs[param_name]} is ' \\\n",
    "                      f'not positive.'\n",
    "            raise ValueError(err_msg)\n",
    "\n",
    "    @staticmethod\n",
    "    def check_boolean_param(param_name: str, **kwargs):\n",
    "        if param_name not in kwargs:\n",
    "            raise ValueError(f'`{param_name}` is not specified!')\n",
    "        if (not isinstance(kwargs[param_name], int)) and \\\n",
    "                (not isinstance(kwargs[param_name], bool)) and \\\n",
    "                (not isinstance(kwargs[param_name], np.bool)) and \\\n",
    "                (not isinstance(kwargs[param_name], np.int64)) and \\\n",
    "                (not isinstance(kwargs[param_name], np.uint64)) and \\\n",
    "                (not isinstance(kwargs[param_name], np.int16)) and \\\n",
    "                (not isinstance(kwargs[param_name], np.uint16)) and \\\n",
    "                (not isinstance(kwargs[param_name], np.int8)) and \\\n",
    "                (not isinstance(kwargs[param_name], np.uint8)) and \\\n",
    "                (not isinstance(kwargs[param_name], np.int32)) and \\\n",
    "                (not isinstance(kwargs[param_name], np.uint32)):\n",
    "            err_msg = f'`{param_name}` is wrong! Expected `{type(True)}`, ' \\\n",
    "                      f'got `{type(kwargs[param_name])}`.'\n",
    "            raise ValueError(err_msg)\n",
    "\n",
    "    @staticmethod\n",
    "    def check_float_param(param_name: str, **kwargs):\n",
    "        if param_name not in kwargs:\n",
    "            raise ValueError(f'`{param_name}` is not specified!')\n",
    "        if (not isinstance(kwargs[param_name], float)) and \\\n",
    "                (not isinstance(kwargs[param_name], np.float)) and \\\n",
    "                (not isinstance(kwargs[param_name], np.float16)) and \\\n",
    "                (not isinstance(kwargs[param_name], np.float8)) and \\\n",
    "                (not isinstance(kwargs[param_name], np.float32)):\n",
    "            err_msg = f'`{param_name}` is wrong! Expected `{type(2.3)}`, ' \\\n",
    "                      f'got `{type(kwargs[param_name])}`.'\n",
    "            raise ValueError(err_msg)\n",
    "\n",
    "    @staticmethod\n",
    "    def check_params(**kwargs):\n",
    "        SNNRegressor.check_integer_param('minibatch_size', **kwargs)\n",
    "        SNNRegressor.check_integer_param('patience', **kwargs)\n",
    "        SNNRegressor.check_integer_param('ensemble_size', **kwargs)\n",
    "        SNNRegressor.check_integer_param('hidden_layer_size', **kwargs)\n",
    "        SNNRegressor.check_integer_param('n_layers', **kwargs)\n",
    "        SNNRegressor.check_integer_param('max_epochs', **kwargs)\n",
    "        SNNRegressor.check_boolean_param('verbose', **kwargs)\n",
    "        SNNRegressor.check_boolean_param('clear_session', **kwargs)\n",
    "        SNNRegressor.check_float_param('dropout_rate', **kwargs)\n",
    "        SNNRegressor.check_float_param('validation_fraction', **kwargs)\n",
    "        if kwargs['dropout_rate'] < 0.0:\n",
    "            err_msg = f'`dropout_rate` is wrong! Expected a non-negative ' \\\n",
    "                      f'value, but {kwargs[\"dropout_rate\"]} is negative!'\n",
    "            raise ValueError(err_msg)\n",
    "        if kwargs['validation_fraction'] <= 0.0:\n",
    "            err_msg = f'`validation_fraction` is wrong! Expected a ' \\\n",
    "                      f'floating-point value in (0.0, 1.0), ' \\\n",
    "                      f'but {kwargs[\"validation_fraction\"]} is inadmissible!'\n",
    "            raise ValueError(err_msg)\n",
    "        if kwargs['validation_fraction'] >= 1.0:\n",
    "            err_msg = f'`validation_fraction` is wrong! Expected a ' \\\n",
    "                      f'floating-point value in (0.0, 1.0), ' \\\n",
    "                      f'but {kwargs[\"validation_fraction\"]} is inadmissible!'\n",
    "            raise ValueError(err_msg)\n",
    "        if 'random_seed' in kwargs:\n",
    "            if kwargs['random_seed'] is not None:\n",
    "                SNNRegressor.check_integer_param('random_seed', **kwargs)"
   ]
  },
  {
   "cell_type": "code",
   "execution_count": 779,
   "id": "8f5caa1f",
   "metadata": {},
   "outputs": [],
   "source": [
    "torch.cuda.empty_cache()"
   ]
  },
  {
   "cell_type": "code",
   "execution_count": 805,
   "id": "fe8c91db",
   "metadata": {},
   "outputs": [],
   "source": [
    "pred = snn.predict(so_train)"
   ]
  }
 ],
 "metadata": {
  "kernelspec": {
   "display_name": "Python 3 (ipykernel)",
   "language": "python",
   "name": "python3"
  },
  "language_info": {
   "codemirror_mode": {
    "name": "ipython",
    "version": 3
   },
   "file_extension": ".py",
   "mimetype": "text/x-python",
   "name": "python",
   "nbconvert_exporter": "python",
   "pygments_lexer": "ipython3",
   "version": "3.7.9"
  }
 },
 "nbformat": 4,
 "nbformat_minor": 5
}
